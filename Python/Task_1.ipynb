{
 "cells": [
  {
   "cell_type": "markdown",
   "id": "268c8e72-e592-40ee-b776-0cc9ba7718e3",
   "metadata": {},
   "source": [
    "### 1. Write a program that prints the following sentence using escape characters:\n"
   ]
  },
  {
   "cell_type": "code",
   "execution_count": 6,
   "id": "4c77af7d-a8b4-440c-a770-1143f0c0ba52",
   "metadata": {},
   "outputs": [],
   "source": [
    "name = \"i am learning python's \\nescape characters.\""
   ]
  },
  {
   "cell_type": "code",
   "execution_count": 7,
   "id": "a5e97628-b78d-4f1c-88e6-43bb14ae29b1",
   "metadata": {},
   "outputs": [
    {
     "name": "stdout",
     "output_type": "stream",
     "text": [
      "i am learning python's \n",
      "escape characters.\n"
     ]
    }
   ],
   "source": [
    "print(name)"
   ]
  },
  {
   "cell_type": "code",
   "execution_count": 8,
   "id": "29480824-5791-423c-96d5-59b8c2f772f0",
   "metadata": {},
   "outputs": [],
   "source": [
    "name = \"i am learning \\npython's \\nescape characters.\""
   ]
  },
  {
   "cell_type": "code",
   "execution_count": 9,
   "id": "43ad6db7-4130-477d-aaf6-d75c5f14b6da",
   "metadata": {},
   "outputs": [
    {
     "name": "stdout",
     "output_type": "stream",
     "text": [
      "i am learning \n",
      "python's \n",
      "escape characters.\n"
     ]
    }
   ],
   "source": [
    "print(name)"
   ]
  },
  {
   "cell_type": "code",
   "execution_count": 16,
   "id": "81ab6f48-c874-4964-99c1-525672fa4af7",
   "metadata": {},
   "outputs": [],
   "source": [
    "name = \"i am learning\\b python's escape\\t characters\\v.\""
   ]
  },
  {
   "cell_type": "code",
   "execution_count": 17,
   "id": "c9cac53f-d2bd-4364-8a39-c50d8984d91f",
   "metadata": {},
   "outputs": [
    {
     "name": "stdout",
     "output_type": "stream",
     "text": [
      "i am learnin python's escape\t characters\u000b",
      ".\n"
     ]
    }
   ],
   "source": [
    "print(name)"
   ]
  },
  {
   "cell_type": "markdown",
   "id": "397f0cff-1eac-4bae-aca5-3f4eaf41291e",
   "metadata": {},
   "source": [
    "### 2. Given a string of \"HELLO, WORLD!\", Write a program to print the character at index 4."
   ]
  },
  {
   "cell_type": "code",
   "execution_count": 18,
   "id": "f834c7e8-9d8e-45b2-98ff-2907c798f85b",
   "metadata": {},
   "outputs": [],
   "source": [
    "name = \"HELLO, WORLD!\""
   ]
  },
  {
   "cell_type": "code",
   "execution_count": 19,
   "id": "048fb0f5-47c3-49b0-ba53-41a61a56cd06",
   "metadata": {},
   "outputs": [
    {
     "data": {
      "text/plain": [
       "'O'"
      ]
     },
     "execution_count": 19,
     "metadata": {},
     "output_type": "execute_result"
    }
   ],
   "source": [
    "name[4]"
   ]
  },
  {
   "cell_type": "markdown",
   "id": "5520cef4-d759-4cff-9f5a-c1acaf85f1e4",
   "metadata": {},
   "source": [
    "### 3.Given a string of \"HELLO, WORLD!\", Write a program to print the substring \"HELLO\" using slicing"
   ]
  },
  {
   "cell_type": "code",
   "execution_count": 22,
   "id": "d6dfb110-a521-4f73-af31-cb443cd340ac",
   "metadata": {},
   "outputs": [],
   "source": [
    "name = \"HELLO, WORLD!\""
   ]
  },
  {
   "cell_type": "code",
   "execution_count": 24,
   "id": "cf2e0d10-bea8-4990-8d52-df0144013be4",
   "metadata": {},
   "outputs": [
    {
     "data": {
      "text/plain": [
       "'HELLO'"
      ]
     },
     "execution_count": 24,
     "metadata": {},
     "output_type": "execute_result"
    }
   ],
   "source": [
    "name[0:5]"
   ]
  },
  {
   "cell_type": "markdown",
   "id": "94c0a6ed-598b-4ac8-803d-038877223a26",
   "metadata": {},
   "source": [
    "### 4.Given a string of \"HELLO, WORLD!\", Write a program to print the substring \"WORLD!\" using slicing"
   ]
  },
  {
   "cell_type": "code",
   "execution_count": 34,
   "id": "4d73689a-5eb3-43bc-9189-31ed1ac2fd85",
   "metadata": {},
   "outputs": [],
   "source": [
    "name = \"HELLO, WORLD!\""
   ]
  },
  {
   "cell_type": "code",
   "execution_count": 35,
   "id": "6e97de80-9cd7-4549-8b7d-5f5a9859627c",
   "metadata": {},
   "outputs": [
    {
     "data": {
      "text/plain": [
       "'WORLD!'"
      ]
     },
     "execution_count": 35,
     "metadata": {},
     "output_type": "execute_result"
    }
   ],
   "source": [
    "name[7:14]"
   ]
  },
  {
   "cell_type": "markdown",
   "id": "9a07e4b6-502d-4777-b9f5-68c20470ccc9",
   "metadata": {},
   "source": [
    "### 5. Given a string \"python is fun!\", write a program to print the substring in reverse order\""
   ]
  },
  {
   "cell_type": "code",
   "execution_count": 2,
   "id": "cf39e726-813f-4a82-b75f-3dd3b6d1da05",
   "metadata": {},
   "outputs": [],
   "source": [
    "name = \"Python is fun!\""
   ]
  },
  {
   "cell_type": "code",
   "execution_count": 3,
   "id": "d45e995f-174d-449b-a6cb-653cd1047c92",
   "metadata": {},
   "outputs": [
    {
     "data": {
      "text/plain": [
       "'!nuf si nohtyP'"
      ]
     },
     "execution_count": 3,
     "metadata": {},
     "output_type": "execute_result"
    }
   ],
   "source": [
    "name[ : :-1]"
   ]
  },
  {
   "cell_type": "markdown",
   "id": "46b06c30-3cb4-438a-bbf9-996d5267145a",
   "metadata": {},
   "source": [
    "### 6. Given a string \"Hello, world!\", write a program to print every second character in the string."
   ]
  },
  {
   "cell_type": "code",
   "execution_count": 4,
   "id": "0e6dbc70-d472-4b68-96bd-a52c2133160b",
   "metadata": {},
   "outputs": [],
   "source": [
    "name = \"Hello, world!\""
   ]
  },
  {
   "cell_type": "code",
   "execution_count": 6,
   "id": "4e1727c7-9a42-4ac1-9b64-9ff1b5d6c6a9",
   "metadata": {},
   "outputs": [
    {
     "data": {
      "text/plain": [
       "'Hlo ol!'"
      ]
     },
     "execution_count": 6,
     "metadata": {},
     "output_type": "execute_result"
    }
   ],
   "source": [
    "name[0:15:2]"
   ]
  },
  {
   "cell_type": "markdown",
   "id": "cc6a02fc-d495-4b46-a9d6-83da91be0408",
   "metadata": {},
   "source": [
    "### 7.  Given a string \"Hello, I am a data scientist!\", write a program to print the length of the string."
   ]
  },
  {
   "cell_type": "code",
   "execution_count": 2,
   "id": "338e2761-bb30-4b58-a682-d8e10a749525",
   "metadata": {},
   "outputs": [],
   "source": [
    "a = (\"Hello, I am a data scientist!\")"
   ]
  },
  {
   "cell_type": "code",
   "execution_count": 3,
   "id": "854cf361-c181-4cec-9f28-22c37db16a8d",
   "metadata": {},
   "outputs": [
    {
     "data": {
      "text/plain": [
       "29"
      ]
     },
     "execution_count": 3,
     "metadata": {},
     "output_type": "execute_result"
    }
   ],
   "source": [
    "len(a)"
   ]
  },
  {
   "cell_type": "code",
   "execution_count": null,
   "id": "4928ca98-55c1-4a4f-bbee-8f1d1df5837c",
   "metadata": {},
   "outputs": [],
   "source": []
  }
 ],
 "metadata": {
  "kernelspec": {
   "display_name": "Python [conda env:base] *",
   "language": "python",
   "name": "conda-base-py"
  },
  "language_info": {
   "codemirror_mode": {
    "name": "ipython",
    "version": 3
   },
   "file_extension": ".py",
   "mimetype": "text/x-python",
   "name": "python",
   "nbconvert_exporter": "python",
   "pygments_lexer": "ipython3",
   "version": "3.13.5"
  }
 },
 "nbformat": 4,
 "nbformat_minor": 5
}
