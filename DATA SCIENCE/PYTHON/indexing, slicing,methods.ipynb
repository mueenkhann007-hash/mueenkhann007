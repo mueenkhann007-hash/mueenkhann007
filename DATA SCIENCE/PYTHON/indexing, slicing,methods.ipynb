{
 "cells": [
  {
   "cell_type": "code",
   "execution_count": 6,
   "id": "79e95fb4-6c2a-4678-b1f4-61d7ac4c6c07",
   "metadata": {},
   "outputs": [
    {
     "data": {
      "text/plain": [
       "'PYTHON'"
      ]
     },
     "execution_count": 6,
     "metadata": {},
     "output_type": "execute_result"
    }
   ],
   "source": [
    "name[0:6]     #6-1 = 5 #0,1,2,3,4,5"
   ]
  },
  {
   "cell_type": "code",
   "execution_count": 7,
   "id": "4c6c8e7c-1573-45f9-b13d-206dfd89a007",
   "metadata": {},
   "outputs": [
    {
     "data": {
      "text/plain": [
       "'PYTH'"
      ]
     },
     "execution_count": 7,
     "metadata": {},
     "output_type": "execute_result"
    }
   ],
   "source": [
    "name[0:4]      # 4-1 = 3 #0,1,2,3"
   ]
  },
  {
   "cell_type": "code",
   "execution_count": 8,
   "id": "fb8f0bad-ff42-4f3e-85af-d53b794d60d7",
   "metadata": {},
   "outputs": [
    {
     "data": {
      "text/plain": [
       "'TH'"
      ]
     },
     "execution_count": 8,
     "metadata": {},
     "output_type": "execute_result"
    }
   ],
   "source": [
    "name[2:4]       #4-1 = 3 #0,1,2,3"
   ]
  },
  {
   "cell_type": "code",
   "execution_count": 11,
   "id": "fbee5a86-8601-4621-b7bf-4c8ecb1f9b1d",
   "metadata": {},
   "outputs": [
    {
     "data": {
      "text/plain": [
       "'GORP '"
      ]
     },
     "execution_count": 11,
     "metadata": {},
     "output_type": "execute_result"
    }
   ],
   "source": [
    "name[10:5:-1]"
   ]
  },
  {
   "cell_type": "code",
   "execution_count": 9,
   "id": "f9125b10-a691-4bce-af18-3de6fe6a7cbd",
   "metadata": {},
   "outputs": [
    {
     "data": {
      "text/plain": [
       "'THON'"
      ]
     },
     "execution_count": 9,
     "metadata": {},
     "output_type": "execute_result"
    }
   ],
   "source": [
    "name[2:6]        #6-1 =5 #0,1,2,3,4,5"
   ]
  },
  {
   "cell_type": "code",
   "execution_count": 10,
   "id": "75b94d28-1b52-4fe7-bebf-c63edf5a15e4",
   "metadata": {},
   "outputs": [
    {
     "data": {
      "text/plain": [
       "''"
      ]
     },
     "execution_count": 10,
     "metadata": {},
     "output_type": "execute_result"
    }
   ],
   "source": [
    "name[-4:-1:-1]"
   ]
  },
  {
   "cell_type": "code",
   "execution_count": 7,
   "id": "7cee84bc-979f-498f-8fe1-5d9013c03e7a",
   "metadata": {},
   "outputs": [
    {
     "data": {
      "text/plain": [
       "[0, 1, 2, 3, 4, 5, 6, 7, 8, 9]"
      ]
     },
     "execution_count": 7,
     "metadata": {},
     "output_type": "execute_result"
    }
   ],
   "source": [
    "list(range(10))"
   ]
  },
  {
   "cell_type": "code",
   "execution_count": 6,
   "id": "59ca379e-be84-4154-b8c2-37c72f019fe5",
   "metadata": {},
   "outputs": [
    {
     "data": {
      "text/plain": [
       "'T'"
      ]
     },
     "execution_count": 6,
     "metadata": {},
     "output_type": "execute_result"
    }
   ],
   "source": [
    "name[2:3]"
   ]
  },
  {
   "cell_type": "code",
   "execution_count": 8,
   "id": "eddfa4e5-e28a-49e2-b7e4-194df12a1f7b",
   "metadata": {},
   "outputs": [
    {
     "data": {
      "text/plain": [
       "[1, 2, 3, 4, 5, 6, 7, 8, 9]"
      ]
     },
     "execution_count": 8,
     "metadata": {},
     "output_type": "execute_result"
    }
   ],
   "source": [
    "list(range(1,10))"
   ]
  },
  {
   "cell_type": "code",
   "execution_count": 9,
   "id": "6e285c3b-8f30-4127-a80e-310aabda8033",
   "metadata": {},
   "outputs": [
    {
     "data": {
      "text/plain": [
       "[1, 3, 5, 7, 9]"
      ]
     },
     "execution_count": 9,
     "metadata": {},
     "output_type": "execute_result"
    }
   ],
   "source": [
    "list(range(1,10,2))"
   ]
  },
  {
   "cell_type": "code",
   "execution_count": 10,
   "id": "4b13a168-fda3-446f-9432-eecd17b9d0c9",
   "metadata": {},
   "outputs": [
    {
     "data": {
      "text/plain": [
       "[]"
      ]
     },
     "execution_count": 10,
     "metadata": {},
     "output_type": "execute_result"
    }
   ],
   "source": [
    "list(range(10,1))"
   ]
  },
  {
   "cell_type": "code",
   "execution_count": 11,
   "id": "1a7c3049-0424-40e7-83ce-12c1a5ae2302",
   "metadata": {},
   "outputs": [
    {
     "data": {
      "text/plain": [
       "''"
      ]
     },
     "execution_count": 11,
     "metadata": {},
     "output_type": "execute_result"
    }
   ],
   "source": [
    "name[10:1]"
   ]
  },
  {
   "cell_type": "code",
   "execution_count": 12,
   "id": "de286716-fead-4e36-b7b0-a8318d739078",
   "metadata": {},
   "outputs": [
    {
     "data": {
      "text/plain": [
       "'PYTHON PROGRAMMING'"
      ]
     },
     "execution_count": 12,
     "metadata": {},
     "output_type": "execute_result"
    }
   ],
   "source": [
    "name"
   ]
  },
  {
   "cell_type": "code",
   "execution_count": 13,
   "id": "4db00760-28b1-4885-b12e-c453eb70ce5b",
   "metadata": {},
   "outputs": [
    {
     "data": {
      "text/plain": [
       "'MIN'"
      ]
     },
     "execution_count": 13,
     "metadata": {},
     "output_type": "execute_result"
    }
   ],
   "source": [
    "name[-4:-1]      #-1-1=-2 "
   ]
  },
  {
   "cell_type": "code",
   "execution_count": 3,
   "id": "d7d81241-961b-4a54-a69c-d9f9eaabe7af",
   "metadata": {},
   "outputs": [
    {
     "data": {
      "text/plain": [
       "'GORP '"
      ]
     },
     "execution_count": 3,
     "metadata": {},
     "output_type": "execute_result"
    }
   ],
   "source": [
    "name[10:5:-1]"
   ]
  },
  {
   "cell_type": "code",
   "execution_count": 4,
   "id": "7a734b5a-a58a-46d0-a88a-dfb5d14dff91",
   "metadata": {},
   "outputs": [
    {
     "data": {
      "text/plain": [
       "'GORP NO'"
      ]
     },
     "execution_count": 4,
     "metadata": {},
     "output_type": "execute_result"
    }
   ],
   "source": [
    "name[10:3:-1]"
   ]
  },
  {
   "cell_type": "code",
   "execution_count": 5,
   "id": "70fe60a5-1883-4b5a-81f2-aa575f0ef773",
   "metadata": {},
   "outputs": [
    {
     "data": {
      "text/plain": [
       "'PYTHON PROGRAMMING'"
      ]
     },
     "execution_count": 5,
     "metadata": {},
     "output_type": "execute_result"
    }
   ],
   "source": [
    "name[ :20]"
   ]
  },
  {
   "cell_type": "code",
   "execution_count": 6,
   "id": "7d88777f-47ea-47aa-8169-df6d22692920",
   "metadata": {},
   "outputs": [
    {
     "data": {
      "text/plain": [
       "'PYTHON PROGRAMMING'"
      ]
     },
     "execution_count": 6,
     "metadata": {},
     "output_type": "execute_result"
    }
   ],
   "source": [
    "name[0: ]"
   ]
  },
  {
   "cell_type": "code",
   "execution_count": 7,
   "id": "156b3c99-bfaa-4232-b105-b76d5350e72c",
   "metadata": {},
   "outputs": [
    {
     "data": {
      "text/plain": [
       "'PTO RGAMN'"
      ]
     },
     "execution_count": 7,
     "metadata": {},
     "output_type": "execute_result"
    }
   ],
   "source": [
    "name[0:20:2]"
   ]
  },
  {
   "cell_type": "code",
   "execution_count": 8,
   "id": "9755f581-429c-4b9f-b1c4-7a1b5c68d4a8",
   "metadata": {},
   "outputs": [
    {
     "data": {
      "text/plain": [
       "'PH OAI'"
      ]
     },
     "execution_count": 8,
     "metadata": {},
     "output_type": "execute_result"
    }
   ],
   "source": [
    "name[0:20:3]"
   ]
  },
  {
   "cell_type": "code",
   "execution_count": 9,
   "id": "c99f5b4b-23f8-4639-9f9d-4a83b5b8ee8f",
   "metadata": {},
   "outputs": [
    {
     "data": {
      "text/plain": [
       "'GNIMMARGORP NOHTYP'"
      ]
     },
     "execution_count": 9,
     "metadata": {},
     "output_type": "execute_result"
    }
   ],
   "source": [
    "name[ : :-1]"
   ]
  },
  {
   "cell_type": "code",
   "execution_count": 10,
   "id": "7d9b5480-a029-419d-9115-53ca20e5e5fb",
   "metadata": {},
   "outputs": [
    {
     "data": {
      "text/plain": [
       "'PYTHON PROGRAMMIN'"
      ]
     },
     "execution_count": 10,
     "metadata": {},
     "output_type": "execute_result"
    }
   ],
   "source": [
    "name[0:-1]"
   ]
  },
  {
   "cell_type": "code",
   "execution_count": 2,
   "id": "c9ab22a9-8585-49ab-8a43-8b4561b26568",
   "metadata": {},
   "outputs": [],
   "source": [
    "a = \"Python Programming\""
   ]
  },
  {
   "cell_type": "code",
   "execution_count": 3,
   "id": "d88df030-7a07-4f72-b3a0-4296b6d53bd0",
   "metadata": {},
   "outputs": [
    {
     "data": {
      "text/plain": [
       "'Python programming'"
      ]
     },
     "execution_count": 3,
     "metadata": {},
     "output_type": "execute_result"
    }
   ],
   "source": [
    "a.capitalize()     #capitalize- it will return first character upper case\n",
    "                     #remaining letters lower case"
   ]
  },
  {
   "cell_type": "code",
   "execution_count": 21,
   "id": "374c8e42-4422-445f-b3f2-8f00fbd20eee",
   "metadata": {},
   "outputs": [
    {
     "data": {
      "text/plain": [
       "'PYTHON PROGRAMMING'"
      ]
     },
     "execution_count": 21,
     "metadata": {},
     "output_type": "execute_result"
    }
   ],
   "source": [
    "a.upper()           #return all letters to upper caSE"
   ]
  },
  {
   "cell_type": "code",
   "execution_count": 22,
   "id": "bf5d1ab3-60d0-4cab-99a8-4f07338adfcc",
   "metadata": {},
   "outputs": [
    {
     "data": {
      "text/plain": [
       "'python programming'"
      ]
     },
     "execution_count": 22,
     "metadata": {},
     "output_type": "execute_result"
    }
   ],
   "source": [
    "a.lower()            #RETURN ALL LETTERS TO LOWER CASE"
   ]
  },
  {
   "cell_type": "code",
   "execution_count": 23,
   "id": "0e85bc59-e332-41fc-9f42-54dcfd234e90",
   "metadata": {},
   "outputs": [
    {
     "data": {
      "text/plain": [
       "'python programming'"
      ]
     },
     "execution_count": 23,
     "metadata": {},
     "output_type": "execute_result"
    }
   ],
   "source": [
    "a.casefold()         #RETURN ALL LETTERS TO LOWER CASE"
   ]
  },
  {
   "cell_type": "code",
   "execution_count": 19,
   "id": "6a50fde7-ed5c-4551-890e-5159a8cde0d3",
   "metadata": {},
   "outputs": [
    {
     "data": {
      "text/plain": [
       "'pYTHON pROGRAMMING'"
      ]
     },
     "execution_count": 19,
     "metadata": {},
     "output_type": "execute_result"
    }
   ],
   "source": [
    "a.swapcase()         #upper case converted to lower case and lower case - upper case"
   ]
  },
  {
   "cell_type": "code",
   "execution_count": 24,
   "id": "44a5d8dc-f483-430f-97a1-884d4ba9ed73",
   "metadata": {},
   "outputs": [
    {
     "data": {
      "text/plain": [
       "2"
      ]
     },
     "execution_count": 24,
     "metadata": {},
     "output_type": "execute_result"
    }
   ],
   "source": [
    "a.count(\"m\")"
   ]
  },
  {
   "cell_type": "code",
   "execution_count": 25,
   "id": "782d329a-61a7-441d-9363-b68090c61f2a",
   "metadata": {},
   "outputs": [
    {
     "data": {
      "text/plain": [
       "2"
      ]
     },
     "execution_count": 25,
     "metadata": {},
     "output_type": "execute_result"
    }
   ],
   "source": [
    "a.count(\"P\")"
   ]
  },
  {
   "cell_type": "code",
   "execution_count": 26,
   "id": "4f4b4ae9-60c4-491d-9810-3478616e364d",
   "metadata": {},
   "outputs": [
    {
     "data": {
      "text/plain": [
       "0"
      ]
     },
     "execution_count": 26,
     "metadata": {},
     "output_type": "execute_result"
    }
   ],
   "source": [
    "a.count(\"p\")"
   ]
  },
  {
   "cell_type": "code",
   "execution_count": 30,
   "id": "f25304ad-2be1-4597-848d-8c66283865a7",
   "metadata": {},
   "outputs": [
    {
     "data": {
      "text/plain": [
       "0"
      ]
     },
     "execution_count": 30,
     "metadata": {},
     "output_type": "execute_result"
    }
   ],
   "source": [
    "a.count(\"P\",2,5)       #count no of occurrences"
   ]
  },
  {
   "cell_type": "code",
   "execution_count": 28,
   "id": "7738e32d-4116-41d2-99d1-955e8b827d88",
   "metadata": {},
   "outputs": [
    {
     "data": {
      "text/plain": [
       "1"
      ]
     },
     "execution_count": 28,
     "metadata": {},
     "output_type": "execute_result"
    }
   ],
   "source": [
    "a.count(\"h\",2,5)"
   ]
  },
  {
   "cell_type": "code",
   "execution_count": 31,
   "id": "8f99ff96-78e9-48b4-8626-c3ed884a4b9f",
   "metadata": {},
   "outputs": [
    {
     "data": {
      "text/plain": [
       "10"
      ]
     },
     "execution_count": 31,
     "metadata": {},
     "output_type": "execute_result"
    }
   ],
   "source": [
    "a.find(\"g\")"
   ]
  },
  {
   "cell_type": "code",
   "execution_count": 32,
   "id": "1c859836-4ce2-44e6-9416-d9f30de0feec",
   "metadata": {},
   "outputs": [
    {
     "data": {
      "text/plain": [
       "12"
      ]
     },
     "execution_count": 32,
     "metadata": {},
     "output_type": "execute_result"
    }
   ],
   "source": [
    "a.find(\"a\")"
   ]
  },
  {
   "cell_type": "code",
   "execution_count": 33,
   "id": "c8861f34-6385-4169-89c1-992571a0aeb8",
   "metadata": {},
   "outputs": [
    {
     "data": {
      "text/plain": [
       "4"
      ]
     },
     "execution_count": 33,
     "metadata": {},
     "output_type": "execute_result"
    }
   ],
   "source": [
    "a.find(\"o\")"
   ]
  },
  {
   "cell_type": "code",
   "execution_count": 34,
   "id": "1b5aca96-a211-46cd-8983-45dfd4faf280",
   "metadata": {},
   "outputs": [
    {
     "data": {
      "text/plain": [
       "10"
      ]
     },
     "execution_count": 34,
     "metadata": {},
     "output_type": "execute_result"
    }
   ],
   "source": [
    "a.find(\"g\",5,11)"
   ]
  },
  {
   "cell_type": "code",
   "execution_count": 35,
   "id": "d02c68b5-a251-4d0a-a069-5b68955ecb0c",
   "metadata": {},
   "outputs": [
    {
     "data": {
      "text/plain": [
       "10"
      ]
     },
     "execution_count": 35,
     "metadata": {},
     "output_type": "execute_result"
    }
   ],
   "source": [
    "a.find(\"g\",6,18)"
   ]
  },
  {
   "cell_type": "code",
   "execution_count": 37,
   "id": "e9b1669d-083e-4aa4-8dad-60fdb1900830",
   "metadata": {},
   "outputs": [
    {
     "data": {
      "text/plain": [
       "'Python Programming'"
      ]
     },
     "execution_count": 37,
     "metadata": {},
     "output_type": "execute_result"
    }
   ],
   "source": [
    "a"
   ]
  },
  {
   "cell_type": "code",
   "execution_count": 39,
   "id": "48836c42-3acd-452f-a206-e7f3652250f7",
   "metadata": {},
   "outputs": [
    {
     "data": {
      "text/plain": [
       "10"
      ]
     },
     "execution_count": 39,
     "metadata": {},
     "output_type": "execute_result"
    }
   ],
   "source": [
    "a.index(\"g\")"
   ]
  },
  {
   "cell_type": "code",
   "execution_count": 41,
   "id": "0fd8f014-f062-43fe-8a0c-e9d3aef796d6",
   "metadata": {},
   "outputs": [
    {
     "data": {
      "text/plain": [
       "4"
      ]
     },
     "execution_count": 41,
     "metadata": {},
     "output_type": "execute_result"
    }
   ],
   "source": [
    "a.index(\"o\")"
   ]
  },
  {
   "cell_type": "code",
   "execution_count": 42,
   "id": "8489c805-c029-48f9-8527-51e9e3a644dd",
   "metadata": {},
   "outputs": [
    {
     "data": {
      "text/plain": [
       "-1"
      ]
     },
     "execution_count": 42,
     "metadata": {},
     "output_type": "execute_result"
    }
   ],
   "source": [
    "a.find(\"z\")"
   ]
  },
  {
   "cell_type": "code",
   "execution_count": 43,
   "id": "03d09d25-e59d-48e6-bb34-f7edb945fd41",
   "metadata": {},
   "outputs": [
    {
     "ename": "ValueError",
     "evalue": "substring not found",
     "output_type": "error",
     "traceback": [
      "\u001b[0;31m---------------------------------------------------------------------------\u001b[0m",
      "\u001b[0;31mValueError\u001b[0m                                Traceback (most recent call last)",
      "Cell \u001b[0;32mIn[43], line 1\u001b[0m\n\u001b[0;32m----> 1\u001b[0m a\u001b[38;5;241m.\u001b[39mindex(\u001b[38;5;124m\"\u001b[39m\u001b[38;5;124mz\u001b[39m\u001b[38;5;124m\"\u001b[39m)\n",
      "\u001b[0;31mValueError\u001b[0m: substring not found"
     ]
    }
   ],
   "source": [
    "a.index(\"z\")"
   ]
  },
  {
   "cell_type": "code",
   "execution_count": 44,
   "id": "9b9355b8-b9ba-47cf-8252-3f378500b67a",
   "metadata": {},
   "outputs": [
    {
     "data": {
      "text/plain": [
       "True"
      ]
     },
     "execution_count": 44,
     "metadata": {},
     "output_type": "execute_result"
    }
   ],
   "source": [
    "a.startswith(\"P\")"
   ]
  },
  {
   "cell_type": "code",
   "execution_count": 45,
   "id": "81b08746-7c79-4f77-a33e-6e3ed41c32d2",
   "metadata": {},
   "outputs": [
    {
     "data": {
      "text/plain": [
       "False"
      ]
     },
     "execution_count": 45,
     "metadata": {},
     "output_type": "execute_result"
    }
   ],
   "source": [
    "a.startswith(\"p\")"
   ]
  },
  {
   "cell_type": "code",
   "execution_count": 46,
   "id": "5cfa6f47-4f3d-42b8-bb8c-0a0f5a537530",
   "metadata": {},
   "outputs": [
    {
     "data": {
      "text/plain": [
       "False"
      ]
     },
     "execution_count": 46,
     "metadata": {},
     "output_type": "execute_result"
    }
   ],
   "source": [
    "a.startswith(\"z\")"
   ]
  },
  {
   "cell_type": "code",
   "execution_count": 47,
   "id": "51581bc2-fd87-4996-b32a-348ed271b3b3",
   "metadata": {},
   "outputs": [
    {
     "data": {
      "text/plain": [
       "True"
      ]
     },
     "execution_count": 47,
     "metadata": {},
     "output_type": "execute_result"
    }
   ],
   "source": [
    "a.endswith(\"g\")"
   ]
  },
  {
   "cell_type": "code",
   "execution_count": 48,
   "id": "00831126-b23d-4ec2-b5fb-de7ca1dd7b12",
   "metadata": {},
   "outputs": [
    {
     "data": {
      "text/plain": [
       "False"
      ]
     },
     "execution_count": 48,
     "metadata": {},
     "output_type": "execute_result"
    }
   ],
   "source": [
    "a.endswith(\"z\")"
   ]
  },
  {
   "cell_type": "code",
   "execution_count": 49,
   "id": "717ca230-4a2c-4a45-a548-1ff64df2872e",
   "metadata": {},
   "outputs": [
    {
     "name": "stdin",
     "output_type": "stream",
     "text": [
      "enter the mobile number: 9353423330\n"
     ]
    }
   ],
   "source": [
    "user_1 = input(\"enter the mobile number:\")"
   ]
  },
  {
   "cell_type": "code",
   "execution_count": 50,
   "id": "bbc95496-4368-4448-8cc6-7b789717df0b",
   "metadata": {},
   "outputs": [
    {
     "data": {
      "text/plain": [
       "str"
      ]
     },
     "execution_count": 50,
     "metadata": {},
     "output_type": "execute_result"
    }
   ],
   "source": [
    "type(user_1)"
   ]
  },
  {
   "cell_type": "code",
   "execution_count": 56,
   "id": "15220625-fd85-4c6b-85fd-23bf9c232659",
   "metadata": {},
   "outputs": [
    {
     "name": "stdin",
     "output_type": "stream",
     "text": [
      "enter mail address www.fgghhh@yahoo.com\n"
     ]
    }
   ],
   "source": [
    "mail = input(\"enter mail address\")"
   ]
  },
  {
   "cell_type": "code",
   "execution_count": 59,
   "id": "d1c70c93-d49a-47c3-8487-3fd915421801",
   "metadata": {},
   "outputs": [
    {
     "data": {
      "text/plain": [
       "False"
      ]
     },
     "execution_count": 59,
     "metadata": {},
     "output_type": "execute_result"
    }
   ],
   "source": [
    "mail.endswith(\"@gmail.com\")"
   ]
  },
  {
   "cell_type": "code",
   "execution_count": 58,
   "id": "4880b6cb-3381-4004-8825-800c2edb5f91",
   "metadata": {},
   "outputs": [
    {
     "data": {
      "text/plain": [
       "False"
      ]
     },
     "execution_count": 58,
     "metadata": {},
     "output_type": "execute_result"
    }
   ],
   "source": [
    "mail.startswith(\"http\")"
   ]
  },
  {
   "cell_type": "code",
   "execution_count": 57,
   "id": "f565e642-eb3e-4d44-b141-e4619e1b219f",
   "metadata": {},
   "outputs": [
    {
     "data": {
      "text/plain": [
       "True"
      ]
     },
     "execution_count": 57,
     "metadata": {},
     "output_type": "execute_result"
    }
   ],
   "source": [
    "mail.startswith((\"http\",\"www\")) and mail.endswith((\"@gmail.com\",\"@yahoo.com\"))"
   ]
  },
  {
   "cell_type": "code",
   "execution_count": 60,
   "id": "27561a56-3727-43d6-a5e6-2ac0e20b277e",
   "metadata": {},
   "outputs": [],
   "source": [
    "a = \"python112\""
   ]
  },
  {
   "cell_type": "code",
   "execution_count": 61,
   "id": "3664b2a8-60a9-4dc6-88fe-cc548937ed69",
   "metadata": {},
   "outputs": [
    {
     "data": {
      "text/plain": [
       "True"
      ]
     },
     "execution_count": 61,
     "metadata": {},
     "output_type": "execute_result"
    }
   ],
   "source": [
    "a.isalnum()"
   ]
  },
  {
   "cell_type": "code",
   "execution_count": 62,
   "id": "cefabbfc-929d-4cac-9f8e-81505d8b0551",
   "metadata": {},
   "outputs": [
    {
     "data": {
      "text/plain": [
       "False"
      ]
     },
     "execution_count": 62,
     "metadata": {},
     "output_type": "execute_result"
    }
   ],
   "source": [
    "a.isalpha()"
   ]
  },
  {
   "cell_type": "code",
   "execution_count": 63,
   "id": "9e33fd30-fefc-4ceb-9275-3037b15fcbeb",
   "metadata": {},
   "outputs": [],
   "source": [
    "b = \"python\""
   ]
  },
  {
   "cell_type": "code",
   "execution_count": 64,
   "id": "51479cc9-b1cd-48fb-80ab-8beac4a095c3",
   "metadata": {},
   "outputs": [
    {
     "data": {
      "text/plain": [
       "True"
      ]
     },
     "execution_count": 64,
     "metadata": {},
     "output_type": "execute_result"
    }
   ],
   "source": [
    "a.isalnum()"
   ]
  },
  {
   "cell_type": "code",
   "execution_count": 65,
   "id": "0bc0ff5c-0430-438b-b106-5613fa4177dc",
   "metadata": {},
   "outputs": [
    {
     "data": {
      "text/plain": [
       "False"
      ]
     },
     "execution_count": 65,
     "metadata": {},
     "output_type": "execute_result"
    }
   ],
   "source": [
    "a.isalpha()"
   ]
  },
  {
   "cell_type": "code",
   "execution_count": 66,
   "id": "76734821-103e-45d7-a081-76fd5a6d8080",
   "metadata": {},
   "outputs": [],
   "source": [
    "m = 32544"
   ]
  },
  {
   "cell_type": "code",
   "execution_count": 67,
   "id": "8c72dbf4-45c9-473d-b754-385089ac658b",
   "metadata": {},
   "outputs": [
    {
     "data": {
      "text/plain": [
       "True"
      ]
     },
     "execution_count": 67,
     "metadata": {},
     "output_type": "execute_result"
    }
   ],
   "source": [
    "a.isalnum()"
   ]
  },
  {
   "cell_type": "code",
   "execution_count": 68,
   "id": "89d21653-7a72-4982-bc9b-71c4b57b794e",
   "metadata": {},
   "outputs": [
    {
     "data": {
      "text/plain": [
       "False"
      ]
     },
     "execution_count": 68,
     "metadata": {},
     "output_type": "execute_result"
    }
   ],
   "source": [
    "a.isalpha()"
   ]
  },
  {
   "cell_type": "code",
   "execution_count": 2,
   "id": "78897901-16ca-4b98-a095-163d1acac9fd",
   "metadata": {},
   "outputs": [],
   "source": [
    "str1 = \"manoj\"      #all num will take alphabets and numericals"
   ]
  },
  {
   "cell_type": "code",
   "execution_count": 3,
   "id": "b09a142f-4bad-4011-b391-244facd55fbb",
   "metadata": {},
   "outputs": [
    {
     "data": {
      "text/plain": [
       "True"
      ]
     },
     "execution_count": 3,
     "metadata": {},
     "output_type": "execute_result"
    }
   ],
   "source": [
    "str1.isalnum()"
   ]
  },
  {
   "cell_type": "code",
   "execution_count": 4,
   "id": "bbebc9f3-c8df-42ed-83c7-71017b4c2329",
   "metadata": {},
   "outputs": [],
   "source": [
    "str2 = \"manoj346\""
   ]
  },
  {
   "cell_type": "code",
   "execution_count": 5,
   "id": "913e8bbc-fd04-4e9d-ae77-a238b9b29421",
   "metadata": {},
   "outputs": [
    {
     "data": {
      "text/plain": [
       "True"
      ]
     },
     "execution_count": 5,
     "metadata": {},
     "output_type": "execute_result"
    }
   ],
   "source": [
    "str2.isalnum()"
   ]
  },
  {
   "cell_type": "code",
   "execution_count": 9,
   "id": "543edc01-9c74-4459-ae08-d07784621d4d",
   "metadata": {},
   "outputs": [],
   "source": [
    "str3 = \"manoj@65\""
   ]
  },
  {
   "cell_type": "code",
   "execution_count": 11,
   "id": "f6ab1c74-ef32-49df-bba1-f8e7d7f0ca06",
   "metadata": {},
   "outputs": [
    {
     "data": {
      "text/plain": [
       "False"
      ]
     },
     "execution_count": 11,
     "metadata": {},
     "output_type": "execute_result"
    }
   ],
   "source": [
    "str3.isalnum()"
   ]
  },
  {
   "cell_type": "code",
   "execution_count": 12,
   "id": "f987589c-6155-4beb-8384-20f47a7a4a99",
   "metadata": {},
   "outputs": [
    {
     "data": {
      "text/plain": [
       "'manoj'"
      ]
     },
     "execution_count": 12,
     "metadata": {},
     "output_type": "execute_result"
    }
   ],
   "source": [
    "str1"
   ]
  },
  {
   "cell_type": "code",
   "execution_count": null,
   "id": "c9ac6c85-603d-4b65-ad70-daff33c39e0d",
   "metadata": {},
   "outputs": [],
   "source": []
  },
  {
   "cell_type": "code",
   "execution_count": 13,
   "id": "4e08fcf5-0ab7-4073-bf46-5fca6243d2bb",
   "metadata": {},
   "outputs": [
    {
     "data": {
      "text/plain": [
       "True"
      ]
     },
     "execution_count": 13,
     "metadata": {},
     "output_type": "execute_result"
    }
   ],
   "source": [
    "str1.isalpha()     #it will allow only alphabet"
   ]
  },
  {
   "cell_type": "code",
   "execution_count": 14,
   "id": "24e01a84-a32a-4981-8139-105517df68ed",
   "metadata": {},
   "outputs": [
    {
     "data": {
      "text/plain": [
       "False"
      ]
     },
     "execution_count": 14,
     "metadata": {},
     "output_type": "execute_result"
    }
   ],
   "source": [
    "str2.isalpha()"
   ]
  },
  {
   "cell_type": "code",
   "execution_count": 15,
   "id": "037f3f47-239e-4d67-8745-46f964c6e687",
   "metadata": {},
   "outputs": [
    {
     "data": {
      "text/plain": [
       "False"
      ]
     },
     "execution_count": 15,
     "metadata": {},
     "output_type": "execute_result"
    }
   ],
   "source": [
    "str3.isalpha()"
   ]
  },
  {
   "cell_type": "code",
   "execution_count": 16,
   "id": "538118dd-c233-4699-96bc-8daa3f92a8db",
   "metadata": {},
   "outputs": [],
   "source": [
    "str4 = \"python123\"     #it allow only numerical"
   ]
  },
  {
   "cell_type": "code",
   "execution_count": 18,
   "id": "81f88135-92d0-4938-b6c5-b2d462035ac2",
   "metadata": {},
   "outputs": [
    {
     "data": {
      "text/plain": [
       "False"
      ]
     },
     "execution_count": 18,
     "metadata": {},
     "output_type": "execute_result"
    }
   ],
   "source": [
    "str4.isdigit()"
   ]
  },
  {
   "cell_type": "code",
   "execution_count": 19,
   "id": "fd9ba796-7f3e-4474-874b-170ba6f1f854",
   "metadata": {},
   "outputs": [
    {
     "data": {
      "text/plain": [
       "'manoj'"
      ]
     },
     "execution_count": 19,
     "metadata": {},
     "output_type": "execute_result"
    }
   ],
   "source": [
    "str1"
   ]
  },
  {
   "cell_type": "code",
   "execution_count": 20,
   "id": "84798f0d-bb32-48ea-a7a3-85c02d539030",
   "metadata": {},
   "outputs": [
    {
     "data": {
      "text/plain": [
       "False"
      ]
     },
     "execution_count": 20,
     "metadata": {},
     "output_type": "execute_result"
    }
   ],
   "source": [
    "str1.isdigit()"
   ]
  },
  {
   "cell_type": "code",
   "execution_count": 21,
   "id": "13249fd9-72a2-4163-8487-788731cc699f",
   "metadata": {},
   "outputs": [
    {
     "data": {
      "text/plain": [
       "False"
      ]
     },
     "execution_count": 21,
     "metadata": {},
     "output_type": "execute_result"
    }
   ],
   "source": [
    "str2.isdigit()"
   ]
  },
  {
   "cell_type": "code",
   "execution_count": 22,
   "id": "ebcaca42-0801-4d09-9b54-63992d964395",
   "metadata": {},
   "outputs": [],
   "source": [
    "str5 = \"67632\""
   ]
  },
  {
   "cell_type": "code",
   "execution_count": 23,
   "id": "34a55e6d-3295-4a80-a1ed-9a297728eb34",
   "metadata": {},
   "outputs": [
    {
     "data": {
      "text/plain": [
       "True"
      ]
     },
     "execution_count": 23,
     "metadata": {},
     "output_type": "execute_result"
    }
   ],
   "source": [
    "str5.isdigit()"
   ]
  },
  {
   "cell_type": "code",
   "execution_count": 28,
   "id": "235099f8-12a0-411c-8abd-880e39ba8cec",
   "metadata": {},
   "outputs": [
    {
     "name": "stdin",
     "output_type": "stream",
     "text": [
      "enter mobile number jguuduwudu\n"
     ]
    }
   ],
   "source": [
    "phone = input(\"enter mobile number\")"
   ]
  },
  {
   "cell_type": "code",
   "execution_count": null,
   "id": "6ac47816-98ef-49be-96a3-5c275786e17b",
   "metadata": {},
   "outputs": [],
   "source": []
  },
  {
   "cell_type": "code",
   "execution_count": null,
   "id": "66f88fe8-f618-4fd2-b361-c5dd93ffff99",
   "metadata": {},
   "outputs": [],
   "source": []
  },
  {
   "cell_type": "code",
   "execution_count": 29,
   "id": "89bc584e-168f-4d5b-b071-6a8686df9061",
   "metadata": {},
   "outputs": [
    {
     "data": {
      "text/plain": [
       "False"
      ]
     },
     "execution_count": 29,
     "metadata": {},
     "output_type": "execute_result"
    }
   ],
   "source": [
    "phone.isdigit()"
   ]
  },
  {
   "cell_type": "code",
   "execution_count": 30,
   "id": "bb459d9e-8739-49ae-b9a5-316d8dac76c4",
   "metadata": {},
   "outputs": [
    {
     "name": "stdin",
     "output_type": "stream",
     "text": [
      "enter mobile number 878778284646\n"
     ]
    }
   ],
   "source": [
    "phone = input(\"enter mobile number\")"
   ]
  },
  {
   "cell_type": "code",
   "execution_count": 31,
   "id": "3e6cce2c-f4d1-4cc9-98e1-5d43e5a2554d",
   "metadata": {},
   "outputs": [
    {
     "data": {
      "text/plain": [
       "True"
      ]
     },
     "execution_count": 31,
     "metadata": {},
     "output_type": "execute_result"
    }
   ],
   "source": [
    "phone.isdigit()"
   ]
  },
  {
   "cell_type": "code",
   "execution_count": 32,
   "id": "a3244be6-cb87-4db0-9f9d-b01a6e59e002",
   "metadata": {},
   "outputs": [
    {
     "name": "stdin",
     "output_type": "stream",
     "text": [
      "enter the password: cbh82838\n"
     ]
    }
   ],
   "source": [
    "password = input(\"enter the password:\")"
   ]
  },
  {
   "cell_type": "code",
   "execution_count": 33,
   "id": "90fb10bf-f970-4680-beef-e9d84347e2da",
   "metadata": {},
   "outputs": [
    {
     "data": {
      "text/plain": [
       "True"
      ]
     },
     "execution_count": 33,
     "metadata": {},
     "output_type": "execute_result"
    }
   ],
   "source": [
    "password.isalnum()"
   ]
  },
  {
   "cell_type": "code",
   "execution_count": 37,
   "id": "56d74c7b-274e-4c7d-a5c1-1a76a3ae7000",
   "metadata": {},
   "outputs": [],
   "source": [
    "name = \"python programming language\""
   ]
  },
  {
   "cell_type": "code",
   "execution_count": 38,
   "id": "0a49f1c1-5de9-407c-b082-90949e287366",
   "metadata": {},
   "outputs": [
    {
     "data": {
      "text/plain": [
       "'@ython @rogramming language'"
      ]
     },
     "execution_count": 38,
     "metadata": {},
     "output_type": "execute_result"
    }
   ],
   "source": [
    "name.replace(\"p\",\"@\")"
   ]
  },
  {
   "cell_type": "code",
   "execution_count": 39,
   "id": "82507b94-14ed-4215-9dfc-a258cc3178bb",
   "metadata": {},
   "outputs": [
    {
     "data": {
      "text/plain": [
       "'python pro#rammin# lan#ua#e'"
      ]
     },
     "execution_count": 39,
     "metadata": {},
     "output_type": "execute_result"
    }
   ],
   "source": [
    "name.replace(\"g\",\"#\")"
   ]
  },
  {
   "cell_type": "code",
   "execution_count": 40,
   "id": "60f21631-87c2-49a1-8915-37731e897d54",
   "metadata": {},
   "outputs": [
    {
     "data": {
      "text/plain": [
       "'@ython programming language'"
      ]
     },
     "execution_count": 40,
     "metadata": {},
     "output_type": "execute_result"
    }
   ],
   "source": [
    "name.replace(\"p\",\"@\",1)"
   ]
  },
  {
   "cell_type": "code",
   "execution_count": 41,
   "id": "47620047-3791-4a6e-b2d8-d7055ab0f0c1",
   "metadata": {},
   "outputs": [
    {
     "data": {
      "text/plain": [
       "'@ython @rogramming language'"
      ]
     },
     "execution_count": 41,
     "metadata": {},
     "output_type": "execute_result"
    }
   ],
   "source": [
    "name.replace(\"p\",\"@\",2)"
   ]
  },
  {
   "cell_type": "code",
   "execution_count": 43,
   "id": "47507a3c-1ef2-4f3d-a312-dd17da3b0fbb",
   "metadata": {},
   "outputs": [
    {
     "data": {
      "text/plain": [
       "'@ython @rogramming language'"
      ]
     },
     "execution_count": 43,
     "metadata": {},
     "output_type": "execute_result"
    }
   ],
   "source": [
    "name.replace(\"p\",\"@\",-1)"
   ]
  },
  {
   "cell_type": "code",
   "execution_count": 44,
   "id": "7d0760a2-55c7-43d2-9fa5-8ed761a337ed",
   "metadata": {},
   "outputs": [
    {
     "data": {
      "text/plain": [
       "'@ython @rogramming language'"
      ]
     },
     "execution_count": 44,
     "metadata": {},
     "output_type": "execute_result"
    }
   ],
   "source": [
    "name.replace(\"p\",\"@\",8)"
   ]
  },
  {
   "cell_type": "code",
   "execution_count": 45,
   "id": "4a70bf64-f085-4b78-8386-01997cb47109",
   "metadata": {},
   "outputs": [
    {
     "data": {
      "text/plain": [
       "'python programming language'"
      ]
     },
     "execution_count": 45,
     "metadata": {},
     "output_type": "execute_result"
    }
   ],
   "source": [
    "name.replace(\"p\",\"@\",0)"
   ]
  },
  {
   "cell_type": "code",
   "execution_count": 46,
   "id": "69965537-f4f2-4960-9c83-986786b12893",
   "metadata": {},
   "outputs": [
    {
     "data": {
      "text/plain": [
       "'python programming language'"
      ]
     },
     "execution_count": 46,
     "metadata": {},
     "output_type": "execute_result"
    }
   ],
   "source": [
    "name"
   ]
  },
  {
   "cell_type": "code",
   "execution_count": 47,
   "id": "ecfc9189-f088-49c0-94a2-bb1a43ea8ac4",
   "metadata": {},
   "outputs": [
    {
     "data": {
      "text/plain": [
       "'python progr*mming l*nguage'"
      ]
     },
     "execution_count": 47,
     "metadata": {},
     "output_type": "execute_result"
    }
   ],
   "source": [
    "name.replace(\"a\",\"*\",2)"
   ]
  },
  {
   "cell_type": "code",
   "execution_count": 48,
   "id": "8f3b6e9a-50f6-4a39-a070-b20ea0969429",
   "metadata": {},
   "outputs": [
    {
     "data": {
      "text/plain": [
       "'python progr*mming l*ngu*ge'"
      ]
     },
     "execution_count": 48,
     "metadata": {},
     "output_type": "execute_result"
    }
   ],
   "source": [
    "name.replace(\"a\",\"*\",4)"
   ]
  },
  {
   "cell_type": "code",
   "execution_count": 49,
   "id": "dac8e813-3de3-4f64-ab59-a9eb19b122e4",
   "metadata": {},
   "outputs": [
    {
     "data": {
      "text/plain": [
       "'python programming language'"
      ]
     },
     "execution_count": 49,
     "metadata": {},
     "output_type": "execute_result"
    }
   ],
   "source": [
    "name.replace(\"a\",\"*\",0)"
   ]
  },
  {
   "cell_type": "code",
   "execution_count": 50,
   "id": "9d1f78f6-ccc8-4a29-8e30-0284ff0539ad",
   "metadata": {},
   "outputs": [
    {
     "data": {
      "text/plain": [
       "'python progr*mming l*ngu*ge'"
      ]
     },
     "execution_count": 50,
     "metadata": {},
     "output_type": "execute_result"
    }
   ],
   "source": [
    "name.replace(\"a\",\"*\",-1)   #-1 it will replace all letter"
   ]
  },
  {
   "cell_type": "code",
   "execution_count": 51,
   "id": "803ebe97-e6ea-4228-916a-00699b38f3b3",
   "metadata": {},
   "outputs": [
    {
     "data": {
      "text/plain": [
       "'python progr*mming language'"
      ]
     },
     "execution_count": 51,
     "metadata": {},
     "output_type": "execute_result"
    }
   ],
   "source": [
    "name.replace(\"a\",\"*\",1)"
   ]
  },
  {
   "cell_type": "code",
   "execution_count": 52,
   "id": "3a89c626-1f2e-48af-b509-9b6aea416669",
   "metadata": {},
   "outputs": [
    {
     "data": {
      "text/plain": [
       "'python progr*mming l*nguage'"
      ]
     },
     "execution_count": 52,
     "metadata": {},
     "output_type": "execute_result"
    }
   ],
   "source": [
    "name.replace(\"a\",\"*\",2)"
   ]
  },
  {
   "cell_type": "code",
   "execution_count": 53,
   "id": "1abcc801-358d-4dc8-8f65-b3fea9437ed0",
   "metadata": {},
   "outputs": [
    {
     "data": {
      "text/plain": [
       "'python progr*mming l*ngu*ge'"
      ]
     },
     "execution_count": 53,
     "metadata": {},
     "output_type": "execute_result"
    }
   ],
   "source": [
    "name.replace(\"a\",\"*\",3)"
   ]
  },
  {
   "cell_type": "code",
   "execution_count": 54,
   "id": "5770df92-8a0f-4c8e-b385-3513c8b026cd",
   "metadata": {},
   "outputs": [
    {
     "data": {
      "text/plain": [
       "'python programming language'"
      ]
     },
     "execution_count": 54,
     "metadata": {},
     "output_type": "execute_result"
    }
   ],
   "source": [
    "name"
   ]
  },
  {
   "cell_type": "code",
   "execution_count": 55,
   "id": "70b8e043-4483-496a-a2f6-0274dd6d5527",
   "metadata": {},
   "outputs": [
    {
     "data": {
      "text/plain": [
       "'* programming language'"
      ]
     },
     "execution_count": 55,
     "metadata": {},
     "output_type": "execute_result"
    }
   ],
   "source": [
    "name.replace(\"python\",\"*\")"
   ]
  },
  {
   "cell_type": "code",
   "execution_count": 56,
   "id": "32bc6fe5-f6a4-45e2-9a18-540961a6f745",
   "metadata": {},
   "outputs": [
    {
     "data": {
      "text/plain": [
       "'python code language'"
      ]
     },
     "execution_count": 56,
     "metadata": {},
     "output_type": "execute_result"
    }
   ],
   "source": [
    "name.replace(\"programming\",\"code\")"
   ]
  },
  {
   "cell_type": "code",
   "execution_count": 60,
   "id": "f9782758-61dd-4f3d-915d-d2edc7f70c7f",
   "metadata": {},
   "outputs": [
    {
     "data": {
      "text/plain": [
       "'@'"
      ]
     },
     "execution_count": 60,
     "metadata": {},
     "output_type": "execute_result"
    }
   ],
   "source": [
    "name.replace(\"python programming language\",\"@\")"
   ]
  },
  {
   "cell_type": "code",
   "execution_count": 61,
   "id": "442676ba-bffd-415b-b154-d9e3bc1e0181",
   "metadata": {},
   "outputs": [
    {
     "data": {
      "text/plain": [
       "'python programming language'"
      ]
     },
     "execution_count": 61,
     "metadata": {},
     "output_type": "execute_result"
    }
   ],
   "source": [
    "name"
   ]
  },
  {
   "cell_type": "code",
   "execution_count": 62,
   "id": "20542a88-88f0-4d89-b27f-940abb6c2c15",
   "metadata": {},
   "outputs": [
    {
     "data": {
      "text/plain": [
       "['python', 'programming', 'language']"
      ]
     },
     "execution_count": 62,
     "metadata": {},
     "output_type": "execute_result"
    }
   ],
   "source": [
    "name.split()      #by default it takes space as seprator"
   ]
  },
  {
   "cell_type": "code",
   "execution_count": 63,
   "id": "da402ae3-24cc-4e82-8015-90b96288e37a",
   "metadata": {},
   "outputs": [
    {
     "data": {
      "text/plain": [
       "['pytho', ' programmi', 'g la', 'guage']"
      ]
     },
     "execution_count": 63,
     "metadata": {},
     "output_type": "execute_result"
    }
   ],
   "source": [
    "name.split(\"n\")"
   ]
  },
  {
   "cell_type": "code",
   "execution_count": 64,
   "id": "15978b81-9fe6-4bf4-91d6-9b398d45c87d",
   "metadata": {},
   "outputs": [
    {
     "data": {
      "text/plain": [
       "['python pro', 'rammin', ' lan', 'ua', 'e']"
      ]
     },
     "execution_count": 64,
     "metadata": {},
     "output_type": "execute_result"
    }
   ],
   "source": [
    "name.split(\"g\")"
   ]
  },
  {
   "cell_type": "code",
   "execution_count": 65,
   "id": "076e1376-54ee-4cd1-ab42-e22be6f148c6",
   "metadata": {},
   "outputs": [
    {
     "data": {
      "text/plain": [
       "['python progr', 'mming l', 'ngu', 'ge']"
      ]
     },
     "execution_count": 65,
     "metadata": {},
     "output_type": "execute_result"
    }
   ],
   "source": [
    "name.split(\"a\")"
   ]
  },
  {
   "cell_type": "code",
   "execution_count": 66,
   "id": "7081dddf-14e0-4a44-bc5a-6e845d13facd",
   "metadata": {},
   "outputs": [
    {
     "data": {
      "text/plain": [
       "['', 'ython ', 'rogramming language']"
      ]
     },
     "execution_count": 66,
     "metadata": {},
     "output_type": "execute_result"
    }
   ],
   "source": [
    "name.split(\"p\")"
   ]
  },
  {
   "cell_type": "code",
   "execution_count": 67,
   "id": "fd794a99-873e-493d-a258-b80b715bf2e6",
   "metadata": {},
   "outputs": [
    {
     "data": {
      "text/plain": [
       "['python programm', 'ng language']"
      ]
     },
     "execution_count": 67,
     "metadata": {},
     "output_type": "execute_result"
    }
   ],
   "source": [
    "name.split(\"i\")"
   ]
  },
  {
   "cell_type": "code",
   "execution_count": 68,
   "id": "f648be08-c6b1-459e-bc7a-beb29b01360e",
   "metadata": {},
   "outputs": [
    {
     "data": {
      "text/plain": [
       "['', 'on programming language']"
      ]
     },
     "execution_count": 68,
     "metadata": {},
     "output_type": "execute_result"
    }
   ],
   "source": [
    "name.split(\"pyth\")"
   ]
  },
  {
   "cell_type": "code",
   "execution_count": 69,
   "id": "b3996262-d04a-4a78-8924-5d11331982ed",
   "metadata": {},
   "outputs": [
    {
     "data": {
      "text/plain": [
       "['python programming language']"
      ]
     },
     "execution_count": 69,
     "metadata": {},
     "output_type": "execute_result"
    }
   ],
   "source": [
    "name.split(\"pgi\")"
   ]
  },
  {
   "cell_type": "code",
   "execution_count": 70,
   "id": "c686b3be-8f1a-4e50-9da8-b4d3ff1301c9",
   "metadata": {},
   "outputs": [
    {
     "data": {
      "text/plain": [
       "['python progr', 'mming l', 'ngu', 'ge']"
      ]
     },
     "execution_count": 70,
     "metadata": {},
     "output_type": "execute_result"
    }
   ],
   "source": [
    "name.split(\"a\")"
   ]
  },
  {
   "cell_type": "code",
   "execution_count": 72,
   "id": "21cd0981-542a-4c3a-bd66-d256acc2e9e7",
   "metadata": {},
   "outputs": [],
   "source": [
    "name1 = (\"shiva academy\")"
   ]
  },
  {
   "cell_type": "code",
   "execution_count": 73,
   "id": "098fcf5b-e557-463e-b7ef-53c3b0eb59a3",
   "metadata": {},
   "outputs": [
    {
     "data": {
      "text/plain": [
       "['shiva', 'academy']"
      ]
     },
     "execution_count": 73,
     "metadata": {},
     "output_type": "execute_result"
    }
   ],
   "source": [
    "name1.split()"
   ]
  },
  {
   "cell_type": "code",
   "execution_count": 74,
   "id": "49c1ccae-871a-4446-b5ee-f924152b6633",
   "metadata": {},
   "outputs": [
    {
     "data": {
      "text/plain": [
       "['shiva ', '']"
      ]
     },
     "execution_count": 74,
     "metadata": {},
     "output_type": "execute_result"
    }
   ],
   "source": [
    "name1.split(\"academy\")"
   ]
  },
  {
   "cell_type": "code",
   "execution_count": 75,
   "id": "e62dd3c2-0573-4a09-8b23-08558a040334",
   "metadata": {},
   "outputs": [
    {
     "data": {
      "text/plain": [
       "['', ' academy']"
      ]
     },
     "execution_count": 75,
     "metadata": {},
     "output_type": "execute_result"
    }
   ],
   "source": [
    "name1.split(\"shiva\")"
   ]
  },
  {
   "cell_type": "code",
   "execution_count": 27,
   "id": "ee8f2da9-4772-4298-971b-12cc0a09db82",
   "metadata": {},
   "outputs": [],
   "source": [
    "string = \"hai i am data scientist. how are you?. i am staying in bangalore\""
   ]
  },
  {
   "cell_type": "raw",
   "id": "d5091e8d-da45-428a-a7ba-ab5737f257cc",
   "metadata": {},
   "source": [
    "string.split()"
   ]
  },
  {
   "cell_type": "code",
   "execution_count": 79,
   "id": "6cf6fb8e-f8bc-4768-8176-a7ce19565044",
   "metadata": {},
   "outputs": [
    {
     "data": {
      "text/plain": [
       "['hai i am data scientist', ' how are you?', ' i am staying in bangalore']"
      ]
     },
     "execution_count": 79,
     "metadata": {},
     "output_type": "execute_result"
    }
   ],
   "source": [
    "string.split(\".\")"
   ]
  },
  {
   "cell_type": "code",
   "execution_count": 3,
   "id": "d0925026-a8a8-407d-92be-c8454f2d1825",
   "metadata": {},
   "outputs": [
    {
     "name": "stdin",
     "output_type": "stream",
     "text": [
      "enter your mailid: mueen@gmail.com\n"
     ]
    }
   ],
   "source": [
    "mail = input(\"enter your mailid:\")"
   ]
  },
  {
   "cell_type": "code",
   "execution_count": 4,
   "id": "627a12bf-888d-48a6-970e-82d9a5e04e37",
   "metadata": {},
   "outputs": [
    {
     "data": {
      "text/plain": [
       "['mueen@gmail.com']"
      ]
     },
     "execution_count": 4,
     "metadata": {},
     "output_type": "execute_result"
    }
   ],
   "source": [
    "mail.split()"
   ]
  },
  {
   "cell_type": "code",
   "execution_count": 5,
   "id": "a0c69c37-c4bb-4855-af34-2f08d3ca07a7",
   "metadata": {},
   "outputs": [
    {
     "data": {
      "text/plain": [
       "['mueen', 'gmail.com']"
      ]
     },
     "execution_count": 5,
     "metadata": {},
     "output_type": "execute_result"
    }
   ],
   "source": [
    "mail.split(\"@\")"
   ]
  },
  {
   "cell_type": "code",
   "execution_count": 6,
   "id": "637f8b1d-764b-4b00-86bb-76d6ff8d5d38",
   "metadata": {},
   "outputs": [
    {
     "data": {
      "text/plain": [
       "'mueen'"
      ]
     },
     "execution_count": 6,
     "metadata": {},
     "output_type": "execute_result"
    }
   ],
   "source": [
    "mail.split(\"@\")[0]"
   ]
  },
  {
   "cell_type": "code",
   "execution_count": 7,
   "id": "095f8604-7934-4050-b5bc-8033065bb3c8",
   "metadata": {},
   "outputs": [
    {
     "data": {
      "text/plain": [
       "'gmail.com'"
      ]
     },
     "execution_count": 7,
     "metadata": {},
     "output_type": "execute_result"
    }
   ],
   "source": [
    "mail.split(\"@\")[1]"
   ]
  },
  {
   "cell_type": "code",
   "execution_count": 7,
   "id": "bdd41900-a1d7-44ef-a4ff-eeec4b7ca244",
   "metadata": {},
   "outputs": [],
   "source": [
    "x = \"python@java@c++@c\""
   ]
  },
  {
   "cell_type": "code",
   "execution_count": 8,
   "id": "9fea52d8-2f52-417c-bc6b-0cab0390f8c7",
   "metadata": {},
   "outputs": [
    {
     "data": {
      "text/plain": [
       "['python@java@c++@c']"
      ]
     },
     "execution_count": 8,
     "metadata": {},
     "output_type": "execute_result"
    }
   ],
   "source": [
    "x.split()"
   ]
  },
  {
   "cell_type": "code",
   "execution_count": 9,
   "id": "1cada50f-3b1f-460a-b1fd-8f7a67e8c02c",
   "metadata": {},
   "outputs": [
    {
     "data": {
      "text/plain": [
       "['python', 'java', 'c++', 'c']"
      ]
     },
     "execution_count": 9,
     "metadata": {},
     "output_type": "execute_result"
    }
   ],
   "source": [
    "x.split(\"@\")       # TWO SUB STRING"
   ]
  },
  {
   "cell_type": "code",
   "execution_count": 10,
   "id": "6d331c74-c5d7-4049-b684-c12d905d4b88",
   "metadata": {},
   "outputs": [
    {
     "data": {
      "text/plain": [
       "['python', 'java@c++@c']"
      ]
     },
     "execution_count": 10,
     "metadata": {},
     "output_type": "execute_result"
    }
   ],
   "source": [
    "x.split(\"@\",1)       # TWO SUB STRING"
   ]
  },
  {
   "cell_type": "code",
   "execution_count": 11,
   "id": "47c206f2-b0c3-4c92-8896-9a8882fbb0d2",
   "metadata": {},
   "outputs": [
    {
     "data": {
      "text/plain": [
       "['python', 'java', 'c++@c']"
      ]
     },
     "execution_count": 11,
     "metadata": {},
     "output_type": "execute_result"
    }
   ],
   "source": [
    "x.split(\"@\",2)       # THREE SUB STRING"
   ]
  },
  {
   "cell_type": "code",
   "execution_count": 12,
   "id": "5878d7a3-94a1-4e9c-bb51-9ae4c1fecce9",
   "metadata": {},
   "outputs": [
    {
     "data": {
      "text/plain": [
       "['python', 'java', 'c++', 'c']"
      ]
     },
     "execution_count": 12,
     "metadata": {},
     "output_type": "execute_result"
    }
   ],
   "source": [
    "x.split(\"@\",3)       #FOUR SUB STRING"
   ]
  },
  {
   "cell_type": "code",
   "execution_count": 16,
   "id": "ccabd57d-3b2c-4451-9749-e3c97d03e2d5",
   "metadata": {},
   "outputs": [
    {
     "name": "stdout",
     "output_type": "stream",
     "text": [
      "hello\n"
     ]
    }
   ],
   "source": [
    "chars = ['h','e','l','l','o']\n",
    "word = \"\".join(chars)              # joining without a space\n",
    "print(word)"
   ]
  },
  {
   "cell_type": "code",
   "execution_count": 18,
   "id": "7e0dd3e5-c7f1-48a1-a010-7c618b8e4e41",
   "metadata": {},
   "outputs": [
    {
     "name": "stdout",
     "output_type": "stream",
     "text": [
      "python is awesome\n"
     ]
    }
   ],
   "source": [
    "words = [\"python\", \"is\", \"awesome\"]\n",
    "sentence = \" \".join(words)         # joining with a space\n",
    "print(sentence)\n"
   ]
  },
  {
   "cell_type": "code",
   "execution_count": 19,
   "id": "f5364809-2776-462a-9a8b-6a4ca8b75da5",
   "metadata": {},
   "outputs": [],
   "source": [
    "string1 = \"      python     \""
   ]
  },
  {
   "cell_type": "code",
   "execution_count": 20,
   "id": "0680c73d-fc27-48c4-8238-140fe734bb9d",
   "metadata": {},
   "outputs": [
    {
     "data": {
      "text/plain": [
       "17"
      ]
     },
     "execution_count": 20,
     "metadata": {},
     "output_type": "execute_result"
    }
   ],
   "source": [
    "len(string1)"
   ]
  },
  {
   "cell_type": "code",
   "execution_count": 21,
   "id": "c6aa29aa-73cd-4043-8162-6ce6d17e24bd",
   "metadata": {},
   "outputs": [
    {
     "data": {
      "text/plain": [
       "'python'"
      ]
     },
     "execution_count": 21,
     "metadata": {},
     "output_type": "execute_result"
    }
   ],
   "source": [
    "string1.strip()        #it remove total white space"
   ]
  },
  {
   "cell_type": "code",
   "execution_count": 22,
   "id": "e37ae78b-d588-47a2-8f1a-6a648508f76c",
   "metadata": {},
   "outputs": [
    {
     "data": {
      "text/plain": [
       "'python     '"
      ]
     },
     "execution_count": 22,
     "metadata": {},
     "output_type": "execute_result"
    }
   ],
   "source": [
    "string1.lstrip()       #it remove before space"
   ]
  },
  {
   "cell_type": "code",
   "execution_count": 24,
   "id": "6a1b32b2-a911-42f6-bc84-2315e6a09a85",
   "metadata": {},
   "outputs": [
    {
     "data": {
      "text/plain": [
       "'      python'"
      ]
     },
     "execution_count": 24,
     "metadata": {},
     "output_type": "execute_result"
    }
   ],
   "source": [
    "string1.rstrip()       #it remove after space"
   ]
  },
  {
   "cell_type": "markdown",
   "id": "61c8534a-b093-4c7f-add9-4903bd0243f7",
   "metadata": {},
   "source": []
  },
  {
   "cell_type": "markdown",
   "id": "ba48282f-7e61-4918-8c48-3c5ceff4a601",
   "metadata": {},
   "source": [
    "### MUTABLE"
   ]
  },
  {
   "cell_type": "code",
   "execution_count": 26,
   "id": "70242791-5945-464f-9af9-8b0f2620b201",
   "metadata": {},
   "outputs": [],
   "source": [
    "# mutable - we can change the original value\n",
    "# imutable -  we cannot change the original value"
   ]
  },
  {
   "cell_type": "code",
   "execution_count": 28,
   "id": "6a0effc7-db38-4357-ae44-35c272a677a3",
   "metadata": {},
   "outputs": [
    {
     "data": {
      "text/plain": [
       "'hai i am data scientist. how are you?. i am staying in bangalore'"
      ]
     },
     "execution_count": 28,
     "metadata": {},
     "output_type": "execute_result"
    }
   ],
   "source": [
    "string"
   ]
  },
  {
   "cell_type": "code",
   "execution_count": 30,
   "id": "db40713b-f180-4f0a-a146-80323bb534bb",
   "metadata": {},
   "outputs": [],
   "source": [
    "string = \"hai i am data scientist. how are you?. i am staying in bangalore\""
   ]
  },
  {
   "cell_type": "code",
   "execution_count": 31,
   "id": "13de2ad6-8421-47fe-83e8-e3f228499f04",
   "metadata": {},
   "outputs": [
    {
     "data": {
      "text/plain": [
       "'h@i i @m d@t@ scientist. how @re you?. i @m st@ying in b@ng@lore'"
      ]
     },
     "execution_count": 31,
     "metadata": {},
     "output_type": "execute_result"
    }
   ],
   "source": [
    "string.replace(\"a\",\"@\")"
   ]
  },
  {
   "cell_type": "code",
   "execution_count": 32,
   "id": "1e8926a2-d596-43b4-ab43-70ce7ad8a161",
   "metadata": {},
   "outputs": [
    {
     "data": {
      "text/plain": [
       "['hai i am data scientist. how are you?. i am staying in bangalore']"
      ]
     },
     "execution_count": 32,
     "metadata": {},
     "output_type": "execute_result"
    }
   ],
   "source": [
    "string.split(\",\")"
   ]
  },
  {
   "cell_type": "markdown",
   "id": "98581cbe-062c-4030-b657-a53cd2f6fa28",
   "metadata": {},
   "source": [
    "### Type Casting\n"
   ]
  },
  {
   "cell_type": "code",
   "execution_count": 1,
   "id": "d268bb6f-0218-4373-8a79-a861ee352bde",
   "metadata": {},
   "outputs": [],
   "source": [
    "num = 7385476347657\n"
   ]
  },
  {
   "cell_type": "code",
   "execution_count": 2,
   "id": "ecf43d92-6973-46eb-bc5c-8a7d7fee724d",
   "metadata": {},
   "outputs": [
    {
     "data": {
      "text/plain": [
       "int"
      ]
     },
     "execution_count": 2,
     "metadata": {},
     "output_type": "execute_result"
    }
   ],
   "source": [
    "type(num)"
   ]
  },
  {
   "cell_type": "code",
   "execution_count": 11,
   "id": "0508f5a6-0820-4251-8bb7-b73e00396b0c",
   "metadata": {},
   "outputs": [
    {
     "data": {
      "text/plain": [
       "13"
      ]
     },
     "execution_count": 11,
     "metadata": {},
     "output_type": "execute_result"
    }
   ],
   "source": [
    "len(num_str)"
   ]
  },
  {
   "cell_type": "code",
   "execution_count": 3,
   "id": "31d6e8ee-89f5-4512-94a4-217854985b22",
   "metadata": {},
   "outputs": [],
   "source": [
    "num_str = str(num)"
   ]
  },
  {
   "cell_type": "code",
   "execution_count": 4,
   "id": "565de34c-9a15-464d-9bc2-6c077ffa1c57",
   "metadata": {},
   "outputs": [
    {
     "data": {
      "text/plain": [
       "'7385476347657'"
      ]
     },
     "execution_count": 4,
     "metadata": {},
     "output_type": "execute_result"
    }
   ],
   "source": [
    "num_str"
   ]
  },
  {
   "cell_type": "code",
   "execution_count": 5,
   "id": "5bdacdcf-71d6-4758-a847-265ea47ad154",
   "metadata": {},
   "outputs": [
    {
     "data": {
      "text/plain": [
       "str"
      ]
     },
     "execution_count": 5,
     "metadata": {},
     "output_type": "execute_result"
    }
   ],
   "source": [
    "type(num_str)"
   ]
  },
  {
   "cell_type": "code",
   "execution_count": 7,
   "id": "886cd03a-1974-47e0-a0a5-62dd6e1006ce",
   "metadata": {},
   "outputs": [
    {
     "name": "stdout",
     "output_type": "stream",
     "text": [
      "7385476347657\n"
     ]
    }
   ],
   "source": [
    "print(num_str)"
   ]
  },
  {
   "cell_type": "code",
   "execution_count": 8,
   "id": "84822b44-0517-499e-b482-4bee1923de27",
   "metadata": {},
   "outputs": [],
   "source": [
    "num_float = float(num)"
   ]
  },
  {
   "cell_type": "code",
   "execution_count": 9,
   "id": "0bdb108b-f9a7-4e14-822a-26a204d94a8d",
   "metadata": {},
   "outputs": [
    {
     "data": {
      "text/plain": [
       "7385476347657.0"
      ]
     },
     "execution_count": 9,
     "metadata": {},
     "output_type": "execute_result"
    }
   ],
   "source": [
    "num_float"
   ]
  },
  {
   "cell_type": "code",
   "execution_count": 10,
   "id": "71643c4f-664d-4748-80cc-0c7b7abc3e4d",
   "metadata": {},
   "outputs": [
    {
     "ename": "TypeError",
     "evalue": "object of type 'float' has no len()",
     "output_type": "error",
     "traceback": [
      "\u001b[0;31m---------------------------------------------------------------------------\u001b[0m",
      "\u001b[0;31mTypeError\u001b[0m                                 Traceback (most recent call last)",
      "Cell \u001b[0;32mIn[10], line 1\u001b[0m\n\u001b[0;32m----> 1\u001b[0m \u001b[38;5;28mlen\u001b[39m(num_float)\n",
      "\u001b[0;31mTypeError\u001b[0m: object of type 'float' has no len()"
     ]
    }
   ],
   "source": [
    "len(num_float)"
   ]
  },
  {
   "cell_type": "code",
   "execution_count": 12,
   "id": "1aff5c4c-ded3-4d43-91c5-396fb9dffa81",
   "metadata": {},
   "outputs": [
    {
     "data": {
      "text/plain": [
       "float"
      ]
     },
     "execution_count": 12,
     "metadata": {},
     "output_type": "execute_result"
    }
   ],
   "source": [
    "type(num_float)"
   ]
  },
  {
   "cell_type": "code",
   "execution_count": 13,
   "id": "1fced077-e83a-4d1d-8804-0dd50304fb27",
   "metadata": {},
   "outputs": [],
   "source": [
    "num = 10"
   ]
  },
  {
   "cell_type": "markdown",
   "id": "e43d802d-505c-4299-ac79-ade9aac10e44",
   "metadata": {},
   "source": []
  },
  {
   "cell_type": "code",
   "execution_count": 14,
   "id": "72943f72-6c80-41ee-9cd0-39f108d50e63",
   "metadata": {},
   "outputs": [
    {
     "data": {
      "text/plain": [
       "'10'"
      ]
     },
     "execution_count": 14,
     "metadata": {},
     "output_type": "execute_result"
    }
   ],
   "source": [
    "str(num)"
   ]
  },
  {
   "cell_type": "code",
   "execution_count": 15,
   "id": "e1c8d3f4-2f87-4f34-a77d-73d7893166fe",
   "metadata": {},
   "outputs": [
    {
     "data": {
      "text/plain": [
       "10.0"
      ]
     },
     "execution_count": 15,
     "metadata": {},
     "output_type": "execute_result"
    }
   ],
   "source": [
    "float(num)"
   ]
  },
  {
   "cell_type": "code",
   "execution_count": 16,
   "id": "4cec282a-e9f5-47df-8304-8db67fbc0bcd",
   "metadata": {},
   "outputs": [
    {
     "data": {
      "text/plain": [
       "(10+0j)"
      ]
     },
     "execution_count": 16,
     "metadata": {},
     "output_type": "execute_result"
    }
   ],
   "source": [
    "complex(num)"
   ]
  },
  {
   "cell_type": "code",
   "execution_count": 17,
   "id": "bd9ffdd8-8250-46b3-9ad7-bde0e8d212b6",
   "metadata": {},
   "outputs": [
    {
     "data": {
      "text/plain": [
       "True"
      ]
     },
     "execution_count": 17,
     "metadata": {},
     "output_type": "execute_result"
    }
   ],
   "source": [
    "bool(num)"
   ]
  },
  {
   "cell_type": "markdown",
   "id": "12a07c98-79da-41ce-882c-1a041ce3123c",
   "metadata": {},
   "source": [
    "### String to others"
   ]
  },
  {
   "cell_type": "code",
   "execution_count": 18,
   "id": "cc3d5f30-e8ea-43e2-85a9-29da9b37eb35",
   "metadata": {},
   "outputs": [],
   "source": [
    "s = \"python\""
   ]
  },
  {
   "cell_type": "code",
   "execution_count": 19,
   "id": "84962c38-6ac1-49e5-a124-7262c9523154",
   "metadata": {},
   "outputs": [
    {
     "ename": "ValueError",
     "evalue": "invalid literal for int() with base 10: 'python'",
     "output_type": "error",
     "traceback": [
      "\u001b[0;31m---------------------------------------------------------------------------\u001b[0m",
      "\u001b[0;31mValueError\u001b[0m                                Traceback (most recent call last)",
      "Cell \u001b[0;32mIn[19], line 1\u001b[0m\n\u001b[0;32m----> 1\u001b[0m \u001b[38;5;28mint\u001b[39m(s)\n",
      "\u001b[0;31mValueError\u001b[0m: invalid literal for int() with base 10: 'python'"
     ]
    }
   ],
   "source": [
    "int(s)"
   ]
  },
  {
   "cell_type": "code",
   "execution_count": 20,
   "id": "bde0e21d-876b-4bdb-ac9b-4ecb58c10852",
   "metadata": {},
   "outputs": [
    {
     "ename": "ValueError",
     "evalue": "could not convert string to float: 'python'",
     "output_type": "error",
     "traceback": [
      "\u001b[0;31m---------------------------------------------------------------------------\u001b[0m",
      "\u001b[0;31mValueError\u001b[0m                                Traceback (most recent call last)",
      "Cell \u001b[0;32mIn[20], line 1\u001b[0m\n\u001b[0;32m----> 1\u001b[0m \u001b[38;5;28mfloat\u001b[39m(s)\n",
      "\u001b[0;31mValueError\u001b[0m: could not convert string to float: 'python'"
     ]
    }
   ],
   "source": [
    "float(s)"
   ]
  },
  {
   "cell_type": "code",
   "execution_count": 21,
   "id": "cde08770-95e4-4184-a1a2-b43171bcbd67",
   "metadata": {},
   "outputs": [
    {
     "ename": "ValueError",
     "evalue": "complex() arg is a malformed string",
     "output_type": "error",
     "traceback": [
      "\u001b[0;31m---------------------------------------------------------------------------\u001b[0m",
      "\u001b[0;31mValueError\u001b[0m                                Traceback (most recent call last)",
      "Cell \u001b[0;32mIn[21], line 1\u001b[0m\n\u001b[0;32m----> 1\u001b[0m \u001b[38;5;28mcomplex\u001b[39m(s)\n",
      "\u001b[0;31mValueError\u001b[0m: complex() arg is a malformed string"
     ]
    }
   ],
   "source": [
    "complex(s)"
   ]
  },
  {
   "cell_type": "code",
   "execution_count": 22,
   "id": "8e9dd75c-dcbe-404a-ab48-4772e1d5f8fa",
   "metadata": {},
   "outputs": [
    {
     "data": {
      "text/plain": [
       "True"
      ]
     },
     "execution_count": 22,
     "metadata": {},
     "output_type": "execute_result"
    }
   ],
   "source": [
    "bool(s)"
   ]
  },
  {
   "cell_type": "code",
   "execution_count": null,
   "id": "2e88e766-e81a-4e22-9d3b-e4f3943ef719",
   "metadata": {},
   "outputs": [],
   "source": []
  },
  {
   "cell_type": "code",
   "execution_count": null,
   "id": "bf7ffde1-e33c-49d4-acb7-7c8dcdf1a6d7",
   "metadata": {},
   "outputs": [],
   "source": []
  },
  {
   "cell_type": "code",
   "execution_count": null,
   "id": "35ded1f8-cae5-4f0c-bee3-4448ae685262",
   "metadata": {},
   "outputs": [],
   "source": []
  },
  {
   "cell_type": "code",
   "execution_count": null,
   "id": "cff4d469-0b3c-4ce1-9efd-575b5581cf2a",
   "metadata": {},
   "outputs": [],
   "source": []
  },
  {
   "cell_type": "code",
   "execution_count": null,
   "id": "d3390c4e-b195-47c8-b832-cb18702c7d88",
   "metadata": {},
   "outputs": [],
   "source": []
  },
  {
   "cell_type": "code",
   "execution_count": null,
   "id": "aea5cba1-c94c-4ebf-aec2-d3a2a0b93021",
   "metadata": {},
   "outputs": [],
   "source": []
  },
  {
   "cell_type": "code",
   "execution_count": null,
   "id": "d8d1323c-095c-408c-b079-02f8dd36c7ea",
   "metadata": {},
   "outputs": [],
   "source": []
  },
  {
   "cell_type": "code",
   "execution_count": null,
   "id": "7d6c2e1e-2a47-4054-bff5-f591cdf7a7ac",
   "metadata": {},
   "outputs": [],
   "source": []
  },
  {
   "cell_type": "code",
   "execution_count": null,
   "id": "026b65ab-14c0-418e-bc26-cecd069e433d",
   "metadata": {},
   "outputs": [],
   "source": []
  },
  {
   "cell_type": "code",
   "execution_count": null,
   "id": "da0affb7-5c57-43f8-9f9f-e8aed492db5b",
   "metadata": {},
   "outputs": [],
   "source": []
  },
  {
   "cell_type": "code",
   "execution_count": null,
   "id": "66d3c976-9464-4560-9c86-d9a9cccbeff1",
   "metadata": {},
   "outputs": [],
   "source": []
  },
  {
   "cell_type": "code",
   "execution_count": null,
   "id": "5c74ea55-9cfd-4151-ad00-1ea10402ddc7",
   "metadata": {},
   "outputs": [],
   "source": []
  }
 ],
 "metadata": {
  "kernelspec": {
   "display_name": "Python [conda env:base] *",
   "language": "python",
   "name": "conda-base-py"
  },
  "language_info": {
   "codemirror_mode": {
    "name": "ipython",
    "version": 3
   },
   "file_extension": ".py",
   "mimetype": "text/x-python",
   "name": "python",
   "nbconvert_exporter": "python",
   "pygments_lexer": "ipython3",
   "version": "3.13.5"
  }
 },
 "nbformat": 4,
 "nbformat_minor": 5
}
