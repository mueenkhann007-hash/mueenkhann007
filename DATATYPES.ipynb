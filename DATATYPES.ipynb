{
 "cells": [
  {
   "cell_type": "markdown",
   "id": "8ef69229-a727-4fef-ba28-1a28a5e5122e",
   "metadata": {},
   "source": [
    "### NUMERIC DATA TYPES"
   ]
  },
  {
   "cell_type": "markdown",
   "id": "3906989e-aca8-46b4-aac1-d1469a3490cd",
   "metadata": {},
   "source": [
    "### INTEGER"
   ]
  },
  {
   "cell_type": "code",
   "execution_count": 29,
   "id": "e06b50d8-3923-4d87-9238-19de77272ca7",
   "metadata": {},
   "outputs": [
    {
     "name": "stdout",
     "output_type": "stream",
     "text": [
      "The history saving thread hit an unexpected error (OperationalError('attempt to write a readonly database')).History will not be written to the database.\n"
     ]
    }
   ],
   "source": [
    "a = 10"
   ]
  },
  {
   "cell_type": "code",
   "execution_count": 30,
   "id": "e1efea0a-0c5b-4df9-b514-8bddc3771070",
   "metadata": {},
   "outputs": [
    {
     "name": "stdout",
     "output_type": "stream",
     "text": [
      "10\n"
     ]
    }
   ],
   "source": [
    "print(a)     # PRINT To display the output"
   ]
  },
  {
   "cell_type": "code",
   "execution_count": 31,
   "id": "42b0ed10-4230-49c5-9cf6-07ebff5ac86b",
   "metadata": {},
   "outputs": [
    {
     "ename": "TypeError",
     "evalue": "object of type 'int' has no len()",
     "output_type": "error",
     "traceback": [
      "\u001b[0;31m---------------------------------------------------------------------------\u001b[0m",
      "\u001b[0;31mTypeError\u001b[0m                                 Traceback (most recent call last)",
      "Cell \u001b[0;32mIn[31], line 1\u001b[0m\n\u001b[0;32m----> 1\u001b[0m \u001b[38;5;28mlen\u001b[39m(a)\n",
      "\u001b[0;31mTypeError\u001b[0m: object of type 'int' has no len()"
     ]
    }
   ],
   "source": [
    "len(a)       # LEN - it will count the values   "
   ]
  },
  {
   "cell_type": "code",
   "execution_count": 32,
   "id": "1802ea59-3a79-4e1c-b456-be8f1695b827",
   "metadata": {},
   "outputs": [
    {
     "data": {
      "text/plain": [
       "int"
      ]
     },
     "execution_count": 32,
     "metadata": {},
     "output_type": "execute_result"
    }
   ],
   "source": [
    "type(a)       # type - it will give the data types of the value"
   ]
  },
  {
   "cell_type": "code",
   "execution_count": 33,
   "id": "74c99b4b-e8a4-4f08-aab8-763b8f0691cd",
   "metadata": {},
   "outputs": [
    {
     "data": {
      "text/plain": [
       "4313049736"
      ]
     },
     "execution_count": 33,
     "metadata": {},
     "output_type": "execute_result"
    }
   ],
   "source": [
    "id(a)         #id- memory allocation or address"
   ]
  },
  {
   "cell_type": "code",
   "execution_count": 34,
   "id": "9705e293-6480-49cd-830e-6157b6675b00",
   "metadata": {},
   "outputs": [
    {
     "data": {
      "text/plain": [
       "10"
      ]
     },
     "execution_count": 34,
     "metadata": {},
     "output_type": "execute_result"
    }
   ],
   "source": [
    "a"
   ]
  },
  {
   "cell_type": "markdown",
   "id": "0dba89e0-d5f0-44ea-963c-b13da426a19b",
   "metadata": {},
   "source": [
    "# Methods / attributes "
   ]
  },
  {
   "cell_type": "code",
   "execution_count": 11,
   "id": "9192b78b-e96a-4b2c-b27a-69249be7f6df",
   "metadata": {},
   "outputs": [
    {
     "data": {
      "text/plain": [
       "10"
      ]
     },
     "execution_count": 11,
     "metadata": {},
     "output_type": "execute_result"
    }
   ],
   "source": [
    "a.numerator"
   ]
  },
  {
   "cell_type": "code",
   "execution_count": 12,
   "id": "3690ce3a-acf6-4d92-96be-7db5f780ccd5",
   "metadata": {},
   "outputs": [
    {
     "data": {
      "text/plain": [
       "1"
      ]
     },
     "execution_count": 12,
     "metadata": {},
     "output_type": "execute_result"
    }
   ],
   "source": [
    "a.denominator"
   ]
  },
  {
   "cell_type": "code",
   "execution_count": 13,
   "id": "94a02d05-bd5b-4418-9e76-31622bab442e",
   "metadata": {},
   "outputs": [
    {
     "data": {
      "text/plain": [
       "10"
      ]
     },
     "execution_count": 13,
     "metadata": {},
     "output_type": "execute_result"
    }
   ],
   "source": [
    "a.real"
   ]
  },
  {
   "cell_type": "code",
   "execution_count": 14,
   "id": "278557cd-83f3-4f35-8a88-e18e2555b354",
   "metadata": {},
   "outputs": [
    {
     "data": {
      "text/plain": [
       "0"
      ]
     },
     "execution_count": 14,
     "metadata": {},
     "output_type": "execute_result"
    }
   ],
   "source": [
    "a.imag"
   ]
  },
  {
   "cell_type": "code",
   "execution_count": 17,
   "id": "c0b00f80-4ba5-41c9-8e09-9f5b8d8be84b",
   "metadata": {},
   "outputs": [
    {
     "data": {
      "text/plain": [
       "(10, 1)"
      ]
     },
     "execution_count": 17,
     "metadata": {},
     "output_type": "execute_result"
    }
   ],
   "source": [
    "a.as_integer_ratio()"
   ]
  },
  {
   "cell_type": "code",
   "execution_count": 18,
   "id": "408c6c42-31ee-4cae-b2f4-caf33c14ecfc",
   "metadata": {},
   "outputs": [
    {
     "data": {
      "text/plain": [
       "2"
      ]
     },
     "execution_count": 18,
     "metadata": {},
     "output_type": "execute_result"
    }
   ],
   "source": [
    "a.bit_count()"
   ]
  },
  {
   "cell_type": "code",
   "execution_count": 19,
   "id": "f51f5ad7-e64a-48b3-afa0-9df40eed2509",
   "metadata": {},
   "outputs": [
    {
     "data": {
      "text/plain": [
       "'0b1010'"
      ]
     },
     "execution_count": 19,
     "metadata": {},
     "output_type": "execute_result"
    }
   ],
   "source": [
    "bin(a)"
   ]
  },
  {
   "cell_type": "code",
   "execution_count": 20,
   "id": "780f738f-d898-44e3-820c-db66ce9fc93c",
   "metadata": {},
   "outputs": [
    {
     "data": {
      "text/plain": [
       "4"
      ]
     },
     "execution_count": 20,
     "metadata": {},
     "output_type": "execute_result"
    }
   ],
   "source": [
    "a.bit_length()"
   ]
  },
  {
   "cell_type": "markdown",
   "id": "5af95fd8-bc50-4c10-8e14-12d66cde0b13",
   "metadata": {},
   "source": [
    "#  FLOAT"
   ]
  },
  {
   "cell_type": "code",
   "execution_count": 1,
   "id": "2b24540b-2342-4d81-ad01-0b81e0b45da1",
   "metadata": {},
   "outputs": [],
   "source": [
    "a = 20.5 "
   ]
  },
  {
   "cell_type": "code",
   "execution_count": 25,
   "id": "4573b330-9a29-4a6a-8749-522ec55df182",
   "metadata": {},
   "outputs": [
    {
     "name": "stdout",
     "output_type": "stream",
     "text": [
      "20.5\n"
     ]
    }
   ],
   "source": [
    "print(a)"
   ]
  },
  {
   "cell_type": "code",
   "execution_count": 2,
   "id": "b4e60bc7-3e47-4c95-9d6f-521e07694ad1",
   "metadata": {},
   "outputs": [
    {
     "ename": "TypeError",
     "evalue": "object of type 'float' has no len()",
     "output_type": "error",
     "traceback": [
      "\u001b[0;31m---------------------------------------------------------------------------\u001b[0m",
      "\u001b[0;31mTypeError\u001b[0m                                 Traceback (most recent call last)",
      "Cell \u001b[0;32mIn[2], line 1\u001b[0m\n\u001b[0;32m----> 1\u001b[0m \u001b[38;5;28mlen\u001b[39m(a)\n",
      "\u001b[0;31mTypeError\u001b[0m: object of type 'float' has no len()"
     ]
    }
   ],
   "source": [
    "len(a)"
   ]
  },
  {
   "cell_type": "code",
   "execution_count": 3,
   "id": "71859496-e8a4-4cfd-a645-fa0557f0a85e",
   "metadata": {},
   "outputs": [
    {
     "data": {
      "text/plain": [
       "float"
      ]
     },
     "execution_count": 3,
     "metadata": {},
     "output_type": "execute_result"
    }
   ],
   "source": [
    "type(a)"
   ]
  },
  {
   "cell_type": "code",
   "execution_count": 4,
   "id": "45a9ccbb-f59b-4af0-ab79-bbedbf6ffe5e",
   "metadata": {},
   "outputs": [
    {
     "data": {
      "text/plain": [
       "4589878512"
      ]
     },
     "execution_count": 4,
     "metadata": {},
     "output_type": "execute_result"
    }
   ],
   "source": [
    "id(a)"
   ]
  },
  {
   "cell_type": "code",
   "execution_count": null,
   "id": "465c11ac-b03b-4197-995e-194bc95ccc9a",
   "metadata": {},
   "outputs": [],
   "source": [
    "# methods /attribute"
   ]
  },
  {
   "cell_type": "code",
   "execution_count": 5,
   "id": "7fdb352f-9de0-48e6-9572-69fdd9689ebe",
   "metadata": {},
   "outputs": [
    {
     "data": {
      "text/plain": [
       "(41, 2)"
      ]
     },
     "execution_count": 5,
     "metadata": {},
     "output_type": "execute_result"
    }
   ],
   "source": [
    "a.as_integer_ratio()"
   ]
  },
  {
   "cell_type": "code",
   "execution_count": 6,
   "id": "93bb619b-818f-4399-b6d0-7ec5f773d242",
   "metadata": {},
   "outputs": [
    {
     "data": {
      "text/plain": [
       "20.5"
      ]
     },
     "execution_count": 6,
     "metadata": {},
     "output_type": "execute_result"
    }
   ],
   "source": [
    "a.real"
   ]
  },
  {
   "cell_type": "code",
   "execution_count": 7,
   "id": "9bff34f5-d443-4c08-aced-0ba64c49db14",
   "metadata": {},
   "outputs": [
    {
     "data": {
      "text/plain": [
       "0.0"
      ]
     },
     "execution_count": 7,
     "metadata": {},
     "output_type": "execute_result"
    }
   ],
   "source": [
    "a.imag"
   ]
  },
  {
   "cell_type": "code",
   "execution_count": 9,
   "id": "4649912d-a4d6-4517-899d-36e419768f3e",
   "metadata": {},
   "outputs": [
    {
     "data": {
      "text/plain": [
       "False"
      ]
     },
     "execution_count": 9,
     "metadata": {},
     "output_type": "execute_result"
    }
   ],
   "source": [
    "a.is_integer()"
   ]
  },
  {
   "cell_type": "markdown",
   "id": "4b6fc2eb-81ac-479a-be42-48837dbe6af6",
   "metadata": {},
   "source": [
    "# complex"
   ]
  },
  {
   "cell_type": "code",
   "execution_count": 10,
   "id": "e83d9271-28de-40f7-a3a7-c319d1284e9f",
   "metadata": {},
   "outputs": [],
   "source": [
    "a = 2+5j"
   ]
  },
  {
   "cell_type": "code",
   "execution_count": 11,
   "id": "a7d291c0-0359-4a47-8a03-439901adf909",
   "metadata": {},
   "outputs": [
    {
     "data": {
      "text/plain": [
       "5.0"
      ]
     },
     "execution_count": 11,
     "metadata": {},
     "output_type": "execute_result"
    }
   ],
   "source": [
    "a.imag"
   ]
  },
  {
   "cell_type": "code",
   "execution_count": 12,
   "id": "d43c2662-b257-47e3-91fb-305b397f8008",
   "metadata": {},
   "outputs": [
    {
     "data": {
      "text/plain": [
       "2.0"
      ]
     },
     "execution_count": 12,
     "metadata": {},
     "output_type": "execute_result"
    }
   ],
   "source": [
    "a.real"
   ]
  },
  {
   "cell_type": "code",
   "execution_count": 14,
   "id": "d734e873-2477-4d96-a3a4-8a735b657bfd",
   "metadata": {},
   "outputs": [
    {
     "data": {
      "text/plain": [
       "(2-5j)"
      ]
     },
     "execution_count": 14,
     "metadata": {},
     "output_type": "execute_result"
    }
   ],
   "source": [
    "a.conjugate()"
   ]
  },
  {
   "cell_type": "markdown",
   "id": "26f5c269-e769-4054-901d-225b34b6ea69",
   "metadata": {},
   "source": [
    "# boolean"
   ]
  },
  {
   "cell_type": "code",
   "execution_count": 18,
   "id": "78a2c2b8-abd0-461a-ac8b-66b1118e74b7",
   "metadata": {},
   "outputs": [],
   "source": [
    "a = True"
   ]
  },
  {
   "cell_type": "code",
   "execution_count": 16,
   "id": "798d3a6f-22fa-4e83-886b-3457cbb08b03",
   "metadata": {},
   "outputs": [
    {
     "ename": "NameError",
     "evalue": "name 'A' is not defined",
     "output_type": "error",
     "traceback": [
      "\u001b[0;31m---------------------------------------------------------------------------\u001b[0m",
      "\u001b[0;31mNameError\u001b[0m                                 Traceback (most recent call last)",
      "Cell \u001b[0;32mIn[16], line 1\u001b[0m\n\u001b[0;32m----> 1\u001b[0m \u001b[38;5;28mprint\u001b[39m(A)\n",
      "\u001b[0;31mNameError\u001b[0m: name 'A' is not defined"
     ]
    }
   ],
   "source": [
    "print(A)"
   ]
  },
  {
   "cell_type": "code",
   "execution_count": 19,
   "id": "4f95de94-df65-400e-b06c-85851b9ac840",
   "metadata": {},
   "outputs": [
    {
     "name": "stdout",
     "output_type": "stream",
     "text": [
      "True\n"
     ]
    }
   ],
   "source": [
    "print(a)"
   ]
  },
  {
   "cell_type": "code",
   "execution_count": 21,
   "id": "fb30a8e9-bba5-4b25-81d1-46c096e431e8",
   "metadata": {},
   "outputs": [
    {
     "data": {
      "text/plain": [
       "1"
      ]
     },
     "execution_count": 21,
     "metadata": {},
     "output_type": "execute_result"
    }
   ],
   "source": [
    "a.bit_count()"
   ]
  },
  {
   "cell_type": "code",
   "execution_count": 22,
   "id": "f71265d3-a0da-42d8-969a-17d15f9a3411",
   "metadata": {},
   "outputs": [
    {
     "data": {
      "text/plain": [
       "1"
      ]
     },
     "execution_count": 22,
     "metadata": {},
     "output_type": "execute_result"
    }
   ],
   "source": [
    "a.real"
   ]
  },
  {
   "cell_type": "code",
   "execution_count": 23,
   "id": "bbfbdcf3-7570-4e70-b8e2-83e56f8c3acb",
   "metadata": {},
   "outputs": [
    {
     "data": {
      "text/plain": [
       "1"
      ]
     },
     "execution_count": 23,
     "metadata": {},
     "output_type": "execute_result"
    }
   ],
   "source": [
    "a.numerator"
   ]
  },
  {
   "cell_type": "code",
   "execution_count": 24,
   "id": "ba60924a-85e9-43d8-879c-a174b95603a0",
   "metadata": {},
   "outputs": [
    {
     "data": {
      "text/plain": [
       "0"
      ]
     },
     "execution_count": 24,
     "metadata": {},
     "output_type": "execute_result"
    }
   ],
   "source": [
    "a.imag"
   ]
  },
  {
   "cell_type": "code",
   "execution_count": 25,
   "id": "595b5f85-3fdf-4b1f-8923-a973a4402acf",
   "metadata": {},
   "outputs": [
    {
     "data": {
      "text/plain": [
       "(1, 1)"
      ]
     },
     "execution_count": 25,
     "metadata": {},
     "output_type": "execute_result"
    }
   ],
   "source": [
    "a.as_integer_ratio()"
   ]
  },
  {
   "cell_type": "code",
   "execution_count": 26,
   "id": "68249939-e774-45ea-b33b-b4ce3d414fbd",
   "metadata": {},
   "outputs": [
    {
     "data": {
      "text/plain": [
       "1"
      ]
     },
     "execution_count": 26,
     "metadata": {},
     "output_type": "execute_result"
    }
   ],
   "source": [
    "a.bit_count()"
   ]
  },
  {
   "cell_type": "code",
   "execution_count": 27,
   "id": "6e7b4105-c9d0-4c97-9d78-ee25423eca93",
   "metadata": {},
   "outputs": [
    {
     "data": {
      "text/plain": [
       "1"
      ]
     },
     "execution_count": 27,
     "metadata": {},
     "output_type": "execute_result"
    }
   ],
   "source": [
    "a.bit_length()"
   ]
  },
  {
   "cell_type": "markdown",
   "id": "eea36770-5bb1-42d3-bda9-71c5b807c9e9",
   "metadata": {},
   "source": [
    "# STRING"
   ]
  },
  {
   "cell_type": "code",
   "execution_count": 2,
   "id": "ebbcd753-a85d-4865-a877-c9cbbc334893",
   "metadata": {},
   "outputs": [],
   "source": [
    "name = \"python\""
   ]
  },
  {
   "cell_type": "code",
   "execution_count": null,
   "id": "664dff68-a86e-48ca-875e-5697f25220d3",
   "metadata": {},
   "outputs": [],
   "source": []
  },
  {
   "cell_type": "code",
   "execution_count": 31,
   "id": "c0702560-83e8-4276-8891-20e8b6660af1",
   "metadata": {},
   "outputs": [
    {
     "name": "stdout",
     "output_type": "stream",
     "text": [
      "python\n"
     ]
    }
   ],
   "source": [
    "print(name)"
   ]
  },
  {
   "cell_type": "code",
   "execution_count": 32,
   "id": "bc52f80a-d2f7-4488-947a-c17b1717928f",
   "metadata": {},
   "outputs": [
    {
     "data": {
      "text/plain": [
       "6"
      ]
     },
     "execution_count": 32,
     "metadata": {},
     "output_type": "execute_result"
    }
   ],
   "source": [
    "len(name)"
   ]
  },
  {
   "cell_type": "code",
   "execution_count": 34,
   "id": "be4af4ae-7a48-4a51-851b-e72ba677a399",
   "metadata": {},
   "outputs": [
    {
     "data": {
      "text/plain": [
       "str"
      ]
     },
     "execution_count": 34,
     "metadata": {},
     "output_type": "execute_result"
    }
   ],
   "source": [
    "type(name)"
   ]
  },
  {
   "cell_type": "code",
   "execution_count": 35,
   "id": "742cba6e-09cd-4361-812b-416d3c36560f",
   "metadata": {},
   "outputs": [
    {
     "data": {
      "text/plain": [
       "4346323920"
      ]
     },
     "execution_count": 35,
     "metadata": {},
     "output_type": "execute_result"
    }
   ],
   "source": [
    "id(name)"
   ]
  },
  {
   "cell_type": "code",
   "execution_count": null,
   "id": "f14ed464-3a4c-42b0-955e-5d91dc981d6f",
   "metadata": {},
   "outputs": [],
   "source": []
  },
  {
   "cell_type": "code",
   "execution_count": 3,
   "id": "52bede79-aec4-4ad3-8f69-df0309e23e84",
   "metadata": {},
   "outputs": [
    {
     "data": {
      "text/plain": [
       "str"
      ]
     },
     "execution_count": 3,
     "metadata": {},
     "output_type": "execute_result"
    }
   ],
   "source": [
    "type(name)"
   ]
  },
  {
   "cell_type": "markdown",
   "id": "d2f46c98-ec0e-45b6-9cad-7e5be24a8a7f",
   "metadata": {},
   "source": [
    "## escape character"
   ]
  },
  {
   "cell_type": "code",
   "execution_count": 41,
   "id": "dbf52892-7aa0-4c79-a152-a348e3521a67",
   "metadata": {},
   "outputs": [
    {
     "ename": "SyntaxError",
     "evalue": "unterminated string literal (detected at line 1) (1476170423.py, line 1)",
     "output_type": "error",
     "traceback": [
      "\u001b[0;36m  Cell \u001b[0;32mIn[41], line 1\u001b[0;36m\u001b[0m\n\u001b[0;31m    print('this is ram's phone')\u001b[0m\n\u001b[0m                              ^\u001b[0m\n\u001b[0;31mSyntaxError\u001b[0m\u001b[0;31m:\u001b[0m unterminated string literal (detected at line 1)\n"
     ]
    }
   ],
   "source": [
    "print('this is ram's phone')"
   ]
  },
  {
   "cell_type": "code",
   "execution_count": 40,
   "id": "bfc6c2e0-5b19-4af1-afa4-19c28741ffb2",
   "metadata": {},
   "outputs": [
    {
     "name": "stdout",
     "output_type": "stream",
     "text": [
      "this is ram's phone\n"
     ]
    }
   ],
   "source": [
    "print('this is ram\\'s phone')"
   ]
  },
  {
   "cell_type": "code",
   "execution_count": 42,
   "id": "8f2f66e1-04d0-4f5f-9be7-95c47de07508",
   "metadata": {},
   "outputs": [
    {
     "name": "stdout",
     "output_type": "stream",
     "text": [
      "this is ram's phone\n"
     ]
    }
   ],
   "source": [
    "print(\"this is ram's phone\")"
   ]
  },
  {
   "cell_type": "code",
   "execution_count": 44,
   "id": "5cd556e9-4ba6-4a4f-892f-06ffab415168",
   "metadata": {},
   "outputs": [
    {
     "ename": "SyntaxError",
     "evalue": "invalid syntax. Perhaps you forgot a comma? (247307073.py, line 1)",
     "output_type": "error",
     "traceback": [
      "\u001b[0;36m  Cell \u001b[0;32mIn[44], line 1\u001b[0;36m\u001b[0m\n\u001b[0;31m    print(\"i live in \"banglore\"\")\u001b[0m\n\u001b[0m          ^\u001b[0m\n\u001b[0;31mSyntaxError\u001b[0m\u001b[0;31m:\u001b[0m invalid syntax. Perhaps you forgot a comma?\n"
     ]
    }
   ],
   "source": [
    "print(\"i live in \"banglore\"\")"
   ]
  },
  {
   "cell_type": "code",
   "execution_count": 46,
   "id": "e077e2aa-771b-486f-8fa1-047fb6a38141",
   "metadata": {},
   "outputs": [
    {
     "name": "stdout",
     "output_type": "stream",
     "text": [
      "i live in\"bangalore\"\n"
     ]
    }
   ],
   "source": [
    "print('i live in\"bangalore\"')"
   ]
  },
  {
   "cell_type": "raw",
   "id": "46e43afc-ef55-4372-bb19-368044bb4f58",
   "metadata": {},
   "source": []
  },
  {
   "cell_type": "code",
   "execution_count": 50,
   "id": "72f0dbe4-6225-47a6-999d-a00ea388ae84",
   "metadata": {},
   "outputs": [
    {
     "name": "stdout",
     "output_type": "stream",
     "text": [
      "I LIVE IN /\"BANGALORE\"\n"
     ]
    }
   ],
   "source": [
    "print('I LIVE IN /\"BANGALORE\"')"
   ]
  },
  {
   "cell_type": "code",
   "execution_count": null,
   "id": "ab4d110b-7405-4dfe-bd44-3609aeb78109",
   "metadata": {},
   "outputs": [],
   "source": []
  },
  {
   "cell_type": "code",
   "execution_count": null,
   "id": "59666e64-b58c-41cb-8d7d-45c585669d74",
   "metadata": {},
   "outputs": [],
   "source": []
  },
  {
   "cell_type": "code",
   "execution_count": null,
   "id": "194e9db6-2629-40bd-a127-d42d4e80f000",
   "metadata": {},
   "outputs": [],
   "source": []
  },
  {
   "cell_type": "code",
   "execution_count": null,
   "id": "79917e93-006f-487f-a3e3-b357e9bb6c26",
   "metadata": {},
   "outputs": [],
   "source": []
  },
  {
   "cell_type": "code",
   "execution_count": null,
   "id": "49a8f45d-cfc1-46ed-8ed2-230483edfe4f",
   "metadata": {},
   "outputs": [],
   "source": []
  },
  {
   "cell_type": "code",
   "execution_count": null,
   "id": "bf40616c-06ab-4e74-a112-b9a0089adc54",
   "metadata": {},
   "outputs": [],
   "source": []
  }
 ],
 "metadata": {
  "kernelspec": {
   "display_name": "Python [conda env:base] *",
   "language": "python",
   "name": "conda-base-py"
  },
  "language_info": {
   "codemirror_mode": {
    "name": "ipython",
    "version": 3
   },
   "file_extension": ".py",
   "mimetype": "text/x-python",
   "name": "python",
   "nbconvert_exporter": "python",
   "pygments_lexer": "ipython3",
   "version": "3.13.5"
  }
 },
 "nbformat": 4,
 "nbformat_minor": 5
}
